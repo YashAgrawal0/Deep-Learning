{
 "cells": [
  {
   "cell_type": "code",
   "execution_count": 1,
   "metadata": {},
   "outputs": [],
   "source": [
    "# import cv2\n",
    "import numpy as np\n",
    "import os\n",
    "from PIL import Image, ImageEnhance"
   ]
  },
  {
   "cell_type": "code",
   "execution_count": 2,
   "metadata": {},
   "outputs": [],
   "source": [
    "groundtruth = \"./scene/scene0.txt\"\n",
    "ball_folder = \"./frames\"\n",
    "scene0 = \"./scene/0\"\n",
    "scene1 = \"./scene/1\"\n",
    "count_0 = len([name for name in os.listdir(scene0)])\n",
    "count_1 = len([name for name in os.listdir(scene1)])"
   ]
  },
  {
   "cell_type": "code",
   "execution_count": 3,
   "metadata": {},
   "outputs": [
    {
     "name": "stdout",
     "output_type": "stream",
     "text": [
      "0 1 2 3 4 5 6 7 8 9 10 11 12 13 14 15 16 17 18 19 20 21 22 23 24 25 26 27 28 29 30 31 32 33 34 35 36 37 38 39 40 41 42 43 44 45 46 47 48 49 50 51 52 53 54 55 56 57 58 59 60 61 62 63 64 65 66 67 68 69 70 71 72 73 74 75 76 77 78 79 80 81 82 83 84 85 86 87 88 89 90 91 92 93 94 95 96 97 98 99 100 101 102 103 104 105 106 107 108 109 110 111 112 113 114 115 116 117 118 119 120 121 122 123 124 125 126 127 128 129 130 131 132 133 134 135 136 137 138 139 140 141 142 143 144 145 146 147 148 149 150 151 152 153 154 155 156 157 158 159 160 161 162 163 164 165 166 167 168 169 170 171 172 173 174 175 176 177 178 179 180 181 182 183 184 185 186 187 188 189 190 191 192 193 194 195 196 197 198 199 200 201 202 203 204 205 206 207 208 209 210 211 212 213 214 215 216 217 218 219 220 221 222 223 224 225 226 227 228 229 230 231 232 233 234 235 236 237 238 239 240 241 242 243 244 245 246\n"
     ]
    }
   ],
   "source": [
    "lines = np.loadtxt(groundtruth)\n",
    "lines = lines.astype(int)\n",
    "for i in range(len(lines)):\n",
    "    folder = ball_folder + \"/\" + str(lines[i][0])\n",
    "    print i,\n",
    "    for images in os.listdir(folder):\n",
    "        sno = int(images.split(\".\")[0])\n",
    "        img = Image.open(folder + \"/\" + images)\n",
    "        if(lines[i][1] <= sno and sno <= lines[i][2]):\n",
    "            count_0 += 1\n",
    "            img1 = ImageEnhance.Contrast(img)\n",
    "            img2 = img1.enhance(1.5)\n",
    "            img3 = img1.enhance(0.8)\n",
    "            img4 = img1.enhance(1.25)\n",
    "            img.save(scene0 + \"/\" + str(count_0) + \".jpg\")\n",
    "            count_0 += 1\n",
    "            img2.save(scene0 + \"/\" + str(count_0) + \".jpg\")\n",
    "            count_0 += 1\n",
    "            img3.save(scene0 + \"/\" + str(count_0) + \".jpg\")\n",
    "            count_0 += 1\n",
    "            img4.save(scene0 + \"/\" + str(count_0) + \".jpg\")\n",
    "        else:\n",
    "            count_1 += 1\n",
    "            img.save(scene1 + \"/\" + str(count_1) + \".jpg\")\n"
   ]
  },
  {
   "cell_type": "code",
   "execution_count": 29,
   "metadata": {},
   "outputs": [],
   "source": []
  }
 ],
 "metadata": {
  "kernelspec": {
   "display_name": "Python 3",
   "language": "python",
   "name": "python3"
  },
  "language_info": {
   "codemirror_mode": {
    "name": "ipython",
    "version": 2
   },
   "file_extension": ".py",
   "mimetype": "text/x-python",
   "name": "python",
   "nbconvert_exporter": "python",
   "pygments_lexer": "ipython2",
   "version": "2.7.12"
  }
 },
 "nbformat": 4,
 "nbformat_minor": 2
}
