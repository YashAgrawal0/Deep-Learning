{
 "cells": [
  {
   "cell_type": "code",
   "execution_count": 5,
   "metadata": {},
   "outputs": [],
   "source": [
    "import numpy as np\n",
    "import os\n",
    "import matplotlib.pyplot as plt\n",
    "from keras.utils import to_categorical\n",
    "from keras.models import Sequential, Model\n",
    "from keras.layers import Dense, Conv2D, Flatten, BatchNormalization, MaxPooling2D, Dropout, Input\n",
    "from keras import metrics\n",
    "from keras.models import model_from_json\n",
    "from keras.callbacks import Callback\n",
    "from keras import optimizers\n",
    "from sklearn.metrics import confusion_matrix, f1_score, precision_score, recall_score, accuracy_score"
   ]
  },
  {
   "cell_type": "code",
   "execution_count": 10,
   "metadata": {},
   "outputs": [],
   "source": [
    "input_folder = \"./input\"\n",
    "op_folder = \"./results\""
   ]
  },
  {
   "cell_type": "code",
   "execution_count": 7,
   "metadata": {},
   "outputs": [],
   "source": [
    "# X_train = np.load(input_folder + \"/X_train.npy\")\n",
    "# y_train = np.load(input_folder + \"/y_train.npy\")\n",
    "# X_test = np.load(input_folder + \"/X_test.npy\")\n",
    "# y_test = np.load(input_folder + \"/y_test.npy\")\n",
    "# print (X_train.shape, X_test.shape, y_train.shape, y_test.shape)"
   ]
  },
  {
   "cell_type": "code",
   "execution_count": 9,
   "metadata": {},
   "outputs": [
    {
     "name": "stdout",
     "output_type": "stream",
     "text": [
      "_________________________________________________________________\n",
      "Layer (type)                 Output Shape              Param #   \n",
      "=================================================================\n",
      "input_2 (InputLayer)         (None, 720, 1280, 3)      0         \n",
      "_________________________________________________________________\n",
      "conv2d_3 (Conv2D)            (None, 143, 255, 64)      19264     \n",
      "_________________________________________________________________\n",
      "batch_normalization_4 (Batch (None, 143, 255, 64)      256       \n",
      "_________________________________________________________________\n",
      "max_pooling2d_2 (MaxPooling2 (None, 70, 126, 64)       0         \n",
      "_________________________________________________________________\n",
      "conv2d_4 (Conv2D)            (None, 70, 126, 8)        520       \n",
      "_________________________________________________________________\n",
      "batch_normalization_5 (Batch (None, 70, 126, 8)        32        \n",
      "_________________________________________________________________\n",
      "dropout_3 (Dropout)          (None, 70, 126, 8)        0         \n",
      "_________________________________________________________________\n",
      "flatten_2 (Flatten)          (None, 70560)             0         \n",
      "_________________________________________________________________\n",
      "dense_2 (Dense)              (None, 512)               36127232  \n",
      "_________________________________________________________________\n",
      "dropout_4 (Dropout)          (None, 512)               0         \n",
      "_________________________________________________________________\n",
      "batch_normalization_6 (Batch (None, 512)               2048      \n",
      "_________________________________________________________________\n",
      "scene (Dense)                (None, 1)                 513       \n",
      "=================================================================\n",
      "Total params: 36,149,865\n",
      "Trainable params: 36,148,697\n",
      "Non-trainable params: 1,168\n",
      "_________________________________________________________________\n"
     ]
    }
   ],
   "source": [
    "inp = Input(shape=(720,1280,3))\n",
    "cnn = Conv2D(64, kernel_size=10, strides=5, activation=\"relu\")(inp)\n",
    "cnn = BatchNormalization()(cnn)\n",
    "cnn = MaxPooling2D(pool_size=4, strides=2)(cnn)\n",
    "cnn = Conv2D(8, kernel_size=1, strides=1, activation=\"relu\")(cnn)\n",
    "cnn = BatchNormalization()(cnn)\n",
    "cnn = Dropout(rate=0.4)(cnn)\n",
    "x = Flatten()(cnn)\n",
    "\n",
    "x = Dense(512, activation=\"relu\")(x)\n",
    "x = Dropout(0.4)(x)\n",
    "x = BatchNormalization()(x)\n",
    "x = Dense(1, activation=\"sigmoid\", name=\"scene\")(x)\n",
    "\n",
    "model = Model(inputs=inp, outputs=[x])\n",
    "\n",
    "model.compile(optimizer=\"adam\",\n",
    "              loss={\"scene\": \"binary_crossentropy\"},\n",
    "              metrics=['accuracy'])\n",
    "\n",
    "model.summary()"
   ]
  },
  {
   "cell_type": "code",
   "execution_count": null,
   "metadata": {},
   "outputs": [],
   "source": [
    "history = model.fit(X_train, y_train,\n",
    "                    validation_data=(X_test, y_test),\n",
    "                    epochs=2, batch_size=100)\n",
    "print (\"after train\")\n",
    "if not os.path.exists(op_folder):\n",
    "    os.makedirs(op_folder)\n",
    "model.save_weights(op_folder + \"/model_hackathon.h5\")\n",
    "# print (\"Model saved...\")\n",
    "\n",
    "# Plot training & validation accuracy values\n",
    "plt.plot(history.history['acc'])\n",
    "plt.plot(history.history['val_acc'])\n",
    "plt.title('Accuracy')\n",
    "plt.ylabel('Accuracy')\n",
    "plt.xlabel('Epoch')\n",
    "plt.legend(['Train', 'Test'], loc='lower right')\n",
    "plt.savefig(\"train_acc.png\", bbox_inches='tight')\n",
    "plt.show()\n",
    "\n",
    "# Plot training & validation loss values\n",
    "plt.plot(history.history['loss'])\n",
    "plt.plot(history.history['val_loss'])\n",
    "plt.title('Loss')\n",
    "plt.ylabel('Loss')\n",
    "plt.xlabel('Epoch')\n",
    "plt.legend(['Train', 'Test'], loc='upper right')\n",
    "plt.savefig(\"train_loss.png\", bbox_inches='tight')\n",
    "plt.show()\n"
   ]
  }
 ],
 "metadata": {
  "kernelspec": {
   "display_name": "Python 3",
   "language": "python",
   "name": "python3"
  },
  "language_info": {
   "codemirror_mode": {
    "name": "ipython",
    "version": 2
   },
   "file_extension": ".py",
   "mimetype": "text/x-python",
   "name": "python",
   "nbconvert_exporter": "python",
   "pygments_lexer": "ipython2",
   "version": "2.7.12"
  }
 },
 "nbformat": 4,
 "nbformat_minor": 2
}
