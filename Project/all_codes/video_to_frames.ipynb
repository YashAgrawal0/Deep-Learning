{
 "cells": [
  {
   "cell_type": "code",
   "execution_count": 6,
   "metadata": {},
   "outputs": [
    {
     "name": "stdout",
     "output_type": "stream",
     "text": [
      "\n"
     ]
    }
   ],
   "source": [
    "import cv2"
   ]
  },
  {
   "cell_type": "code",
   "execution_count": 7,
   "metadata": {},
   "outputs": [],
   "source": [
    "folder = \"./frames\"\n",
    "FROM_BALL = 36\n",
    "TO_BALL = 125\n",
    "FRAME_RATE = 0.3"
   ]
  },
  {
   "cell_type": "code",
   "execution_count": 8,
   "metadata": {},
   "outputs": [],
   "source": [
    "def getFrameUtil(sec, vidcap, frame_no, ball):\n",
    "    vidcap.set(cv2.CAP_PROP_POS_MSEC,sec*1000)\n",
    "    hasFrames,image = vidcap.read()\n",
    "    if hasFrames:\n",
    "        cv2.imwrite(folder + \"/\" + str(ball) + \"/\" + str(frame_no) + \".jpg\", image)     # save frame as JPG file\n",
    "    return hasFrames"
   ]
  },
  {
   "cell_type": "code",
   "execution_count": 9,
   "metadata": {},
   "outputs": [],
   "source": [
    "def getFrame(vidcap, ball):\n",
    "    success = True\n",
    "    frame_no, sec = 0, -FRAME_RATE\n",
    "    while success:\n",
    "        sec = sec + FRAME_RATE\n",
    "        sec = round(sec, 2)\n",
    "        success = getFrameUtil(sec, vidcap, frame_no, ball)\n",
    "        frame_no += 1\n",
    "#         print sec,"
   ]
  },
  {
   "cell_type": "code",
   "execution_count": 10,
   "metadata": {},
   "outputs": [
    {
     "name": "stdout",
     "output_type": "stream",
     "text": [
      "('Ball ', 36, ' done')\n",
      "('Ball ', 37, ' done')\n",
      "('Ball ', 38, ' done')\n",
      "('Ball ', 39, ' done')\n",
      "('Ball ', 40, ' done')\n",
      "('Ball ', 41, ' done')\n",
      "('Ball ', 42, ' done')\n",
      "('Ball ', 43, ' done')\n",
      "('Ball ', 44, ' done')\n",
      "('Ball ', 45, ' done')\n",
      "('Ball ', 46, ' done')\n",
      "('Ball ', 47, ' done')\n",
      "('Ball ', 48, ' done')\n",
      "('Ball ', 49, ' done')\n",
      "('Ball ', 50, ' done')\n",
      "('Ball ', 51, ' done')\n",
      "('Ball ', 52, ' done')\n",
      "('Ball ', 53, ' done')\n",
      "('Ball ', 54, ' done')\n",
      "('Ball ', 55, ' done')\n",
      "('Ball ', 56, ' done')\n",
      "('Ball ', 57, ' done')\n",
      "('Ball ', 58, ' done')\n",
      "('Ball ', 59, ' done')\n",
      "('Ball ', 60, ' done')\n",
      "('Ball ', 61, ' done')\n",
      "('Ball ', 62, ' done')\n",
      "('Ball ', 63, ' done')\n",
      "('Ball ', 64, ' done')\n",
      "('Ball ', 65, ' done')\n",
      "('Ball ', 66, ' done')\n",
      "('Ball ', 67, ' done')\n",
      "('Ball ', 68, ' done')\n",
      "('Ball ', 69, ' done')\n",
      "('Ball ', 70, ' done')\n",
      "('Ball ', 71, ' done')\n",
      "('Ball ', 72, ' done')\n",
      "('Ball ', 73, ' done')\n",
      "('Ball ', 74, ' done')\n",
      "('Ball ', 75, ' done')\n",
      "('Ball ', 76, ' done')\n",
      "('Ball ', 77, ' done')\n",
      "('Ball ', 78, ' done')\n",
      "('Ball ', 79, ' done')\n",
      "('Ball ', 80, ' done')\n",
      "('Ball ', 81, ' done')\n",
      "('Ball ', 82, ' done')\n",
      "('Ball ', 83, ' done')\n",
      "('Ball ', 84, ' done')\n",
      "('Ball ', 85, ' done')\n",
      "('Ball ', 86, ' done')\n",
      "('Ball ', 87, ' done')\n",
      "('Ball ', 88, ' done')\n",
      "('Ball ', 89, ' done')\n",
      "('Ball ', 90, ' done')\n",
      "('Ball ', 91, ' done')\n",
      "('Ball ', 92, ' done')\n",
      "('Ball ', 93, ' done')\n",
      "('Ball ', 94, ' done')\n",
      "('Ball ', 95, ' done')\n",
      "('Ball ', 96, ' done')\n",
      "('Ball ', 97, ' done')\n",
      "('Ball ', 98, ' done')\n",
      "('Ball ', 99, ' done')\n",
      "('Ball ', 100, ' done')\n",
      "('Ball ', 101, ' done')\n",
      "('Ball ', 102, ' done')\n",
      "('Ball ', 103, ' done')\n",
      "('Ball ', 104, ' done')\n",
      "('Ball ', 105, ' done')\n",
      "('Ball ', 106, ' done')\n",
      "('Ball ', 107, ' done')\n",
      "('Ball ', 108, ' done')\n",
      "('Ball ', 109, ' done')\n",
      "('Ball ', 110, ' done')\n",
      "('Ball ', 111, ' done')\n",
      "('Ball ', 112, ' done')\n",
      "('Ball ', 113, ' done')\n",
      "('Ball ', 114, ' done')\n",
      "('Ball ', 115, ' done')\n",
      "('Ball ', 116, ' done')\n",
      "('Ball ', 117, ' done')\n",
      "('Ball ', 118, ' done')\n",
      "('Ball ', 119, ' done')\n",
      "('Ball ', 120, ' done')\n",
      "('Ball ', 121, ' done')\n",
      "('Ball ', 122, ' done')\n",
      "('Ball ', 123, ' done')\n",
      "('Ball ', 124, ' done')\n",
      "('Ball ', 125, ' done')\n"
     ]
    }
   ],
   "source": [
    "for ball in range(FROM_BALL, TO_BALL + 1):\n",
    "    vidcap = cv2.VideoCapture(folder + \"/\" + str(ball) + \".mp4\")\n",
    "    getFrame(vidcap, ball)\n",
    "    print(\"Ball \",ball,\" done\")"
   ]
  },
  {
   "cell_type": "code",
   "execution_count": null,
   "metadata": {},
   "outputs": [],
   "source": []
  }
 ],
 "metadata": {
  "kernelspec": {
   "display_name": "Python 3",
   "language": "python",
   "name": "python3"
  },
  "language_info": {
   "codemirror_mode": {
    "name": "ipython",
    "version": 2
   },
   "file_extension": ".py",
   "mimetype": "text/x-python",
   "name": "python",
   "nbconvert_exporter": "python",
   "pygments_lexer": "ipython2",
   "version": "2.7.12"
  }
 },
 "nbformat": 4,
 "nbformat_minor": 2
}
