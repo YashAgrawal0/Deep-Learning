{
 "cells": [
  {
   "cell_type": "code",
   "execution_count": 5,
   "metadata": {},
   "outputs": [],
   "source": [
    "import cv2\n",
    "import os"
   ]
  },
  {
   "cell_type": "code",
   "execution_count": 6,
   "metadata": {},
   "outputs": [],
   "source": [
    "folder = \"./frames\"\n",
    "PLAYERS_PATH = \"./players\"\n",
    "BATSMAN_PATH = PLAYERS_PATH + \"/batsman\"\n",
    "BOWLER_PATH = PLAYERS_PATH + \"/bowler\"\n",
    "GROUND_TRUTH_FILEPATH = \"groundtruth.txt\"\n",
    "\n",
    "if not os.path.exists(PLAYERS_PATH):\n",
    "    os.makedirs(PLAYERS_PATH)\n",
    "if not os.path.exists(BATSMAN_PATH):\n",
    "    os.makedirs(BATSMAN_PATH)\n",
    "if not os.path.exists(BOWLER_PATH):\n",
    "    os.makedirs(BOWLER_PATH)"
   ]
  },
  {
   "cell_type": "code",
   "execution_count": 7,
   "metadata": {},
   "outputs": [],
   "source": [
    "def crop_players(BALL_NO, FRAME_NO, Y, ID):\n",
    "    img = cv2.imread(folder + \"/\" + str(BALL_NO) + \"/\" + str(FRAME_NO) + \".jpg\")\n",
    "    # img = cv2.rectangle(img, (Y[0], Y[1]), (Y[2], Y[3]), (0,0,255), 2)\n",
    "    # img = cv2.rectangle(img, (Y[4], Y[5]), (Y[6], Y[7]), (0,0,255), 2)\n",
    "    \n",
    "#     img[y1:y2, x1:x2]\n",
    "    batsman = img[Y[1]:Y[3], Y[0]:Y[2]]\n",
    "    bowler = img[Y[5]:Y[7], Y[4]:Y[6]]\n",
    "    \n",
    "#     opposite of batsman.shape = (512,256)\n",
    "    batsman = cv2.resize(batsman, (256, 512))\n",
    "    bowler = cv2.resize(bowler, (256, 512))\n",
    "    print(batsman.shape, bowler.shape)\n",
    "\n",
    "#     Cropped images of players will be inside it's ID named folder respectively\n",
    "    path1 = BATSMAN_PATH + \"/\" + str(ID[0])\n",
    "    path2 = BOWLER_PATH + \"/\" + str(ID[1])\n",
    "\n",
    "    if not os.path.exists(path1):\n",
    "        os.makedirs(path1)\n",
    "    if not os.path.exists(path2):\n",
    "        os.makedirs(path2)\n",
    "\n",
    "    count1 = len([name for name in os.listdir(path1)])\n",
    "    count2 = len([name for name in os.listdir(path2)])\n",
    "\n",
    "    cv2.imwrite(path1 + \"/\" + str(count1 + 1) + \".jpg\", batsman)\n",
    "    cv2.imwrite(path2 + \"/\" + str(count2 + 1) + \".jpg\", bowler)\n",
    "\n",
    "    # cv2.imshow('image',batsman)\n",
    "    # cv2.waitKey(0)\n",
    "    # cv2.destroyAllWindows()"
   ]
  },
  {
   "cell_type": "code",
   "execution_count": 8,
   "metadata": {},
   "outputs": [
    {
     "name": "stdout",
     "output_type": "stream",
     "text": [
      "((512, 256, 3), (512, 256, 3))\n",
      "((512, 256, 3), (512, 256, 3))\n",
      "((512, 256, 3), (512, 256, 3))\n",
      "((512, 256, 3), (512, 256, 3))\n",
      "((512, 256, 3), (512, 256, 3))\n",
      "((512, 256, 3), (512, 256, 3))\n",
      "((512, 256, 3), (512, 256, 3))\n",
      "((512, 256, 3), (512, 256, 3))\n",
      "((512, 256, 3), (512, 256, 3))\n",
      "((512, 256, 3), (512, 256, 3))\n"
     ]
    }
   ],
   "source": [
    "trimVideo = open(GROUND_TRUTH_FILEPATH, \"r\")\n",
    "lines = trimVideo.read().split('\\n')\n",
    "L = len(lines)\n",
    "for i in range(L):\n",
    "    line = lines[i]\n",
    "    line = map(int, line.split(\" \"))\n",
    "    BALL_NO, FRAME_NO, Y, ID = line[0], line[1], line[2:-2], line[-2:]\n",
    "    crop_players(BALL_NO, FRAME_NO, Y, ID)"
   ]
  }
 ],
 "metadata": {
  "kernelspec": {
   "display_name": "Python 3",
   "language": "python",
   "name": "python3"
  },
  "language_info": {
   "codemirror_mode": {
    "name": "ipython",
    "version": 2
   },
   "file_extension": ".py",
   "mimetype": "text/x-python",
   "name": "python",
   "nbconvert_exporter": "python",
   "pygments_lexer": "ipython2",
   "version": "2.7.12"
  }
 },
 "nbformat": 4,
 "nbformat_minor": 2
}
