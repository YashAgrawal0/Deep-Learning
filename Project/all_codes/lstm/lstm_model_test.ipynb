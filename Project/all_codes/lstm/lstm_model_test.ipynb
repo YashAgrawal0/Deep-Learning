{
 "cells": [
  {
   "cell_type": "code",
   "execution_count": 1,
   "metadata": {},
   "outputs": [
    {
     "name": "stderr",
     "output_type": "stream",
     "text": [
      "Using TensorFlow backend.\n"
     ]
    }
   ],
   "source": [
    "import numpy as np\n",
    "import math\n",
    "import matplotlib\n",
    "import os\n",
    "import cv2\n",
    "import random\n",
    "from sklearn.utils import shuffle\n",
    "# import pandas\n",
    "import numpy as np\n",
    "from keras.models import Sequential\n",
    "from keras.optimizers import RMSprop\n",
    "from keras.layers import Dense, Flatten\n",
    "from keras.layers import LSTM, Dropout, ConvLSTM2D, BatchNormalization\n",
    "from sklearn.preprocessing import MinMaxScaler\n",
    "from sklearn.metrics import mean_squared_error"
   ]
  },
  {
   "cell_type": "code",
   "execution_count": 6,
   "metadata": {},
   "outputs": [
    {
     "name": "stdout",
     "output_type": "stream",
     "text": [
      "_________________________________________________________________\n",
      "Layer (type)                 Output Shape              Param #   \n",
      "=================================================================\n",
      "conv_lst_m2d_2 (ConvLSTM2D)  (None, 40, 13, 25, 32)    286848    \n",
      "_________________________________________________________________\n",
      "flatten_2 (Flatten)          (None, 416000)            0         \n",
      "_________________________________________________________________\n",
      "dropout_2 (Dropout)          (None, 416000)            0         \n",
      "_________________________________________________________________\n",
      "dense_2 (Dense)              (None, 84)                34944084  \n",
      "=================================================================\n",
      "Total params: 35,230,932\n",
      "Trainable params: 35,230,932\n",
      "Non-trainable params: 0\n",
      "_________________________________________________________________\n",
      "Weights loaded\n"
     ]
    }
   ],
   "source": [
    "\n",
    "model_weights_path = \"./results/model_mse.h5\"\n",
    "op_folder = \"/results\"\n",
    "FRAME_RATE = 0.3\n",
    "look_back = 40\n",
    "ip_shape = [197, look_back, 72, 128, 3]\n",
    "output_layer_size = 84\n",
    "scaling = 0.1\n",
    "\n",
    "model = Sequential()\n",
    "model.add(ConvLSTM2D(filters=32, kernel_size=8, strides=5, data_format=\"channels_last\",\n",
    "\tinput_shape=(ip_shape[1], ip_shape[2], ip_shape[3], ip_shape[4]), return_sequences=True))\n",
    "# model.add(AveragePooling3D(pool_size=(3, 3, 3)))\n",
    "model.add(Flatten())\n",
    "# model.add(BatchNormalization())\n",
    "# model.add(LSTM(256, input_shape=(look_back, 67456)))\n",
    "# model.add(Dropout(0.4))\n",
    "# model.add(Dense(512, activation=\"relu\"))\n",
    "model.add(Dropout(0.4))\n",
    "model.add(Dense(output_layer_size, activation=\"relu\"))\n",
    "\n",
    "optimizer = RMSprop(lr=0.06)\n",
    "model.compile(loss='mse', optimizer=\"adam\", metrics=[\"accuracy\"])\n",
    "model.summary()\n",
    "\n",
    "model.load_weights(model_weights_path)\n",
    "\n",
    "print(\"Weights loaded\")\n"
   ]
  },
  {
   "cell_type": "code",
   "execution_count": null,
   "metadata": {},
   "outputs": [],
   "source": []
  }
 ],
 "metadata": {
  "kernelspec": {
   "display_name": "Python 3",
   "language": "python",
   "name": "python3"
  },
  "language_info": {
   "codemirror_mode": {
    "name": "ipython",
    "version": 2
   },
   "file_extension": ".py",
   "mimetype": "text/x-python",
   "name": "python",
   "nbconvert_exporter": "python",
   "pygments_lexer": "ipython2",
   "version": "2.7.12"
  }
 },
 "nbformat": 4,
 "nbformat_minor": 2
}
