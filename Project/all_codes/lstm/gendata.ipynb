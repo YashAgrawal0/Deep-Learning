{
 "cells": [
  {
   "cell_type": "code",
   "execution_count": 4,
   "metadata": {},
   "outputs": [],
   "source": [
    "import cv2\n",
    "import gensim\n",
    "from gensim.models.doc2vec import LabeledSentence\n",
    "from __future__ import unicode_literals\n",
    "import numpy as np\n",
    "import os\n",
    "import time\n",
    "import codecs\n",
    "import spacy\n",
    "from keras.preprocessing.text import Tokenizer\n",
    "from keras.preprocessing.sequence import pad_sequences\n",
    "from keras.models import Sequential\n",
    "from keras.layers import Embedding, LSTM, Dense\n"
   ]
  },
  {
   "cell_type": "code",
   "execution_count": 5,
   "metadata": {},
   "outputs": [],
   "source": [
    "folder = \"../frames\"\n",
    "starting_ball = 1\n",
    "ending_ball = 3\n",
    "look_back = 40"
   ]
  },
  {
   "cell_type": "code",
   "execution_count": 6,
   "metadata": {},
   "outputs": [],
   "source": [
    "v = []\n",
    "for i in range(starting_ball, ending_ball + 1):\n",
    "    v.append(len([name for name in os.listdir(folder + \"/\" + str(i))]))\n",
    "v = np.array(v)\n",
    "v = np.sort(v)\n",
    "# [10 13 13 13 13 13 16 16 16 16 16 16 16 16 16 16 16 16 16 16 16 16 16 16\n",
    "#  16 16 20 20 20 20 20 20 20 20 20 20 20 20 23 23 23 23 23 23 23 23 23 23\n",
    "#  23 23 23 23 23 23 23 23 23 23 23 23 23 23 23 23 23 23 23 23 26 26 26 26\n",
    "#  26 26 26 26 26 26 26 26 26 26 26 26 26 26 26 26 26 26 26 26 26 26 26 26\n",
    "#  26 26 26 26 26 26 26 26 26 26 26 30 30 30 30 30 30 30 30 30 30 30 30 30\n",
    "#  30 30 30 30 30 30 30 30 30 30 30 30 30 30 30 30 30 30 30 30 30 30 30 30\n",
    "#  30 30 30 30 33 33 33 33 33 33 33 33 33 33 33 33 33 33 33 33 33 33 33 33\n",
    "#  33 33 33 33 33 33 36 36 36 36 36 36 36 36 36 36 36 36 36 36 36 36 36 36\n",
    "#  36 36 36 36 36 36 36 36 40 40 40 40 40 40 40 40 40 40 40 40 40 40 43 43\n",
    "#  43 43 43 43 46 46 46 46 46 46 46 46 46 50 50 50 50 50 53 53 53 53 53 53\n",
    "#  53 56 56 60 66 70 76]"
   ]
  },
  {
   "cell_type": "code",
   "execution_count": 17,
   "metadata": {},
   "outputs": [
    {
     "name": "stdout",
     "output_type": "stream",
     "text": [
      "((1, 720, 1280, 3), (23, 720, 1280, 3))\n"
     ]
    },
    {
     "ename": "KeyboardInterrupt",
     "evalue": "",
     "output_type": "error",
     "traceback": [
      "\u001b[0;31m---------------------------------------------------------------------------\u001b[0m",
      "\u001b[0;31mKeyboardInterrupt\u001b[0m                         Traceback (most recent call last)",
      "\u001b[0;32m<ipython-input-17-ee85f078ffbe>\u001b[0m in \u001b[0;36m<module>\u001b[0;34m()\u001b[0m\n\u001b[1;32m     17\u001b[0m         \u001b[0;32mprint\u001b[0m\u001b[0;34m(\u001b[0m\u001b[0mpadL\u001b[0m\u001b[0;34m.\u001b[0m\u001b[0mshape\u001b[0m\u001b[0;34m,\u001b[0m \u001b[0mimg_set\u001b[0m\u001b[0;34m.\u001b[0m\u001b[0mshape\u001b[0m\u001b[0;34m)\u001b[0m\u001b[0;34m\u001b[0m\u001b[0m\n\u001b[1;32m     18\u001b[0m         \u001b[0mpadded\u001b[0m \u001b[0;34m=\u001b[0m \u001b[0mnp\u001b[0m\u001b[0;34m.\u001b[0m\u001b[0mconcatenate\u001b[0m\u001b[0;34m(\u001b[0m\u001b[0;34m(\u001b[0m\u001b[0mpadL\u001b[0m\u001b[0;34m,\u001b[0m \u001b[0mimg_set\u001b[0m\u001b[0;34m)\u001b[0m\u001b[0;34m,\u001b[0m \u001b[0maxis\u001b[0m\u001b[0;34m=\u001b[0m\u001b[0;36m0\u001b[0m\u001b[0;34m)\u001b[0m\u001b[0;34m\u001b[0m\u001b[0m\n\u001b[0;32m---> 19\u001b[0;31m         \u001b[0mpadde\u001b[0m \u001b[0;34m=\u001b[0m \u001b[0mnp\u001b[0m\u001b[0;34m.\u001b[0m\u001b[0mndarray\u001b[0m\u001b[0;34m.\u001b[0m\u001b[0mtolist\u001b[0m\u001b[0;34m(\u001b[0m\u001b[0mnp\u001b[0m\u001b[0;34m.\u001b[0m\u001b[0mconcatenate\u001b[0m\u001b[0;34m(\u001b[0m\u001b[0;34m(\u001b[0m\u001b[0mpadded\u001b[0m\u001b[0;34m,\u001b[0m \u001b[0mpadR\u001b[0m\u001b[0;34m)\u001b[0m\u001b[0;34m,\u001b[0m \u001b[0maxis\u001b[0m\u001b[0;34m=\u001b[0m\u001b[0;36m0\u001b[0m\u001b[0;34m)\u001b[0m\u001b[0;34m)\u001b[0m\u001b[0;34m\u001b[0m\u001b[0m\n\u001b[0m\u001b[1;32m     20\u001b[0m         \u001b[0mcurr_img\u001b[0m \u001b[0;34m=\u001b[0m \u001b[0mpadde\u001b[0m\u001b[0;34m\u001b[0m\u001b[0m\n\u001b[1;32m     21\u001b[0m \u001b[0;31m#     print(i),\u001b[0m\u001b[0;34m\u001b[0m\u001b[0;34m\u001b[0m\u001b[0m\n",
      "\u001b[0;31mKeyboardInterrupt\u001b[0m: "
     ]
    }
   ],
   "source": [
    "X_data = []\n",
    "for i in range(starting_ball, ending_ball + 1):\n",
    "    total_img = len([name for name in os.listdir(folder + \"/\" + str(i))])\n",
    "    curr_img = []\n",
    "    for j in range(0, total_img):\n",
    "        path = folder + \"/\" + str(i) + \"/\" + str(j) + \".jpg\"\n",
    "        img = cv2.imread(path)\n",
    "        curr_img.append(img)\n",
    "    if(total_img < look_back):\n",
    "        left = (look_back - total_img) // 2\n",
    "        right = total_img - left\n",
    "        padL = np.full(curr_img[0].shape, curr_img[0])\n",
    "        padR = np.full(curr_img[0].shape, curr_img[total_img - 1])\n",
    "        img_set = np.array(curr_img)\n",
    "        padL = np.expand_dims(padL, axis=0)\n",
    "        padR = np.expand_dims(padR, axis=0)\n",
    "        print(padL.shape, img_set.shape)\n",
    "        padded = np.concatenate((padL, img_set), axis=0)\n",
    "        padde = np.ndarray.tolist(np.concatenate((padded, padR), axis=0))\n",
    "        curr_img = padde\n",
    "#     print(i),\n",
    "        print(len(curr_img))\n",
    "#         Shape: 720, 1280, 3\n",
    "    X_data.append(curr_img)\n",
    "X_data = np.array(X_data)\n",
    "# print(X_data.shape)"
   ]
  },
  {
   "cell_type": "code",
   "execution_count": null,
   "metadata": {},
   "outputs": [],
   "source": []
  }
 ],
 "metadata": {
  "kernelspec": {
   "display_name": "Python 3",
   "language": "python",
   "name": "python3"
  },
  "language_info": {
   "codemirror_mode": {
    "name": "ipython",
    "version": 2
   },
   "file_extension": ".py",
   "mimetype": "text/x-python",
   "name": "python",
   "nbconvert_exporter": "python",
   "pygments_lexer": "ipython2",
   "version": "2.7.12"
  }
 },
 "nbformat": 4,
 "nbformat_minor": 2
}
