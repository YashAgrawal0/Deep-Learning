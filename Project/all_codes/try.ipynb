{
 "cells": [
  {
   "cell_type": "code",
   "execution_count": 13,
   "metadata": {},
   "outputs": [],
   "source": [
    "original = open(\"./inningsTXT/commentary.txt\", \"r\").readlines()"
   ]
  },
  {
   "cell_type": "code",
   "execution_count": 14,
   "metadata": {},
   "outputs": [
    {
     "name": "stdout",
     "output_type": "stream",
     "text": [
      "OUT<strong>the short fine-leg shows great anticipation and takes a simple catch in the end!</strong>. Rohit goes for a premeditated scoop, it doesn't quite come onto the bat, he doesn't get all of it and ends up spooning it to short fine-leg, who was ready for it before the shot was even completed\n",
      "\n"
     ]
    }
   ],
   "source": [
    "no = 14\n",
    "print original[no]"
   ]
  },
  {
   "cell_type": "code",
   "execution_count": 16,
   "metadata": {},
   "outputs": [
    {
     "name": "stdout",
     "output_type": "stream",
     "text": [
      "['Original commentary: OUT<strong>the short fine-leg shows great anticipation and ', 'takes a simple catch in the end!</strong>. ', 'Rohit goes for a premeditated scoop, it ', \"doesn't quite come onto the bat, he \", \"doesn't get all of it and ends \", 'up spooning it to short fine-leg, who ', 'was ready for it before the shot ', 'was even completed\\n ']\n"
     ]
    }
   ],
   "source": [
    "original_words = original[no].split(\" \")\n",
    "original_lineno = -1\n",
    "original_print = []\n",
    "for i in range(len(original_words)):\n",
    "    if(i % 7 == 0):\n",
    "        original_lineno += 1\n",
    "        original_print.append(\"\")\n",
    "    if(i == 0):\n",
    "        original_print[original_lineno] = \"Original commentary: \"\n",
    "    original_print[original_lineno] += original_words[i] + \" \"\n",
    "print original_print"
   ]
  },
  {
   "cell_type": "code",
   "execution_count": null,
   "metadata": {},
   "outputs": [],
   "source": []
  }
 ],
 "metadata": {
  "kernelspec": {
   "display_name": "Python 3",
   "language": "python",
   "name": "python3"
  },
  "language_info": {
   "codemirror_mode": {
    "name": "ipython",
    "version": 2
   },
   "file_extension": ".py",
   "mimetype": "text/x-python",
   "name": "python",
   "nbconvert_exporter": "python",
   "pygments_lexer": "ipython2",
   "version": "2.7.12"
  }
 },
 "nbformat": 4,
 "nbformat_minor": 2
}
