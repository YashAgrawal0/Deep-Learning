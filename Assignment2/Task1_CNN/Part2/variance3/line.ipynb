{
 "cells": [
  {
   "cell_type": "code",
   "execution_count": 1,
   "metadata": {},
   "outputs": [
    {
     "name": "stderr",
     "output_type": "stream",
     "text": [
      "Using TensorFlow backend.\n"
     ]
    }
   ],
   "source": [
    "import numpy as np\n",
    "import os\n",
    "import matplotlib.pyplot as plt\n",
    "from keras.utils import to_categorical\n",
    "from keras.models import Sequential\n",
    "from keras.layers import Dense, Conv2D, Flatten, BatchNormalization, MaxPooling2D, Dropout\n",
    "from keras import metrics\n",
    "from keras.models import model_from_json\n",
    "from keras.callbacks import Callback\n",
    "from keras import optimizers\n",
    "from sklearn.metrics import confusion_matrix, f1_score, precision_score, recall_score, accuracy_score"
   ]
  },
  {
   "cell_type": "code",
   "execution_count": 2,
   "metadata": {},
   "outputs": [
    {
     "name": "stdout",
     "output_type": "stream",
     "text": [
      "((57600, 28, 28, 3), (38400, 28, 28, 3), (57600, 96), (38400, 96))\n"
     ]
    }
   ],
   "source": [
    "total_classes = 96\n",
    "\n",
    "line_folder = \"../../../line_data\"\n",
    "op_folder = \"./result/line\"\n",
    "\n",
    "X_train = np.load(line_folder + \"/x_train.npy\")\n",
    "y_train = np.load(line_folder + \"/y_train.npy\")\n",
    "X_test = np.load(line_folder + \"/x_test.npy\")\n",
    "y_test = np.load(line_folder + \"/y_test.npy\")\n",
    "\n",
    "# X_train = X_train[:1000]\n",
    "# y_train = y_train[:1000]\n",
    "# X_test = X_test[:1000]\n",
    "# y_test = y_test[:1000]\n",
    "\n",
    "print (X_train.shape, X_test.shape, y_train.shape, y_test.shape)"
   ]
  },
  {
   "cell_type": "code",
   "execution_count": 3,
   "metadata": {},
   "outputs": [
    {
     "name": "stdout",
     "output_type": "stream",
     "text": [
      "((57600, 28, 28, 3), (38400, 28, 28, 3), (57600, 96), (38400, 96))\n"
     ]
    }
   ],
   "source": [
    "X_train = X_train.reshape(57600, 28, 28, 3)\n",
    "X_test = X_test.reshape(38400, 28, 28, 3)\n",
    "print (X_train.shape, X_test.shape, y_train.shape, y_test.shape)"
   ]
  },
  {
   "cell_type": "code",
   "execution_count": 4,
   "metadata": {},
   "outputs": [
    {
     "name": "stdout",
     "output_type": "stream",
     "text": [
      "WARNING:tensorflow:From /usr/local/lib/python2.7/dist-packages/tensorflow/python/framework/op_def_library.py:263: colocate_with (from tensorflow.python.framework.ops) is deprecated and will be removed in a future version.\n",
      "Instructions for updating:\n",
      "Colocations handled automatically by placer.\n",
      "WARNING:tensorflow:From /usr/local/lib/python2.7/dist-packages/keras/backend/tensorflow_backend.py:3445: calling dropout (from tensorflow.python.ops.nn_ops) with keep_prob is deprecated and will be removed in a future version.\n",
      "Instructions for updating:\n",
      "Please use `rate` instead of `keep_prob`. Rate should be set to `rate = 1 - keep_prob`.\n",
      "(None, 10000)\n",
      "(None, 96)\n"
     ]
    }
   ],
   "source": [
    "model = Sequential()\n",
    "model.add(Conv2D(32, kernel_size=3, strides=1, activation=\"relu\", input_shape=(28,28,3)))\n",
    "model.add(BatchNormalization())\n",
    "model.add(MaxPooling2D(pool_size=2, strides=1))\n",
    "model.add(Conv2D(16, kernel_size=1, strides=1, activation=\"relu\", input_shape=(28,28,3)))\n",
    "model.add(BatchNormalization())\n",
    "model.add(Dropout(rate=0.3))\n",
    "model.add(Flatten())\n",
    "print (model.output_shape)\n",
    "model.add(Dense(512, activation=\"relu\"))\n",
    "model.add(Dropout(rate=0.3))\n",
    "model.add(BatchNormalization())\n",
    "model.add(Dense(total_classes, activation=\"softmax\"))\n",
    "\n",
    "\n",
    "model.compile(optimizer=\"adam\", loss=\"categorical_crossentropy\", metrics=['accuracy'])\n",
    "print (model.output_shape)\n"
   ]
  },
  {
   "cell_type": "code",
   "execution_count": 5,
   "metadata": {},
   "outputs": [
    {
     "name": "stdout",
     "output_type": "stream",
     "text": [
      "WARNING:tensorflow:From /usr/local/lib/python2.7/dist-packages/tensorflow/python/ops/math_ops.py:3066: to_int32 (from tensorflow.python.ops.math_ops) is deprecated and will be removed in a future version.\n",
      "Instructions for updating:\n",
      "Use tf.cast instead.\n",
      "Train on 57600 samples, validate on 38400 samples\n",
      "Epoch 1/10\n",
      "57600/57600 [==============================] - 150s 3ms/step - loss: 1.9851 - acc: 0.4657 - val_loss: 1.2944 - val_acc: 0.5318\n",
      "Epoch 2/10\n",
      "57600/57600 [==============================] - 139s 2ms/step - loss: 0.4656 - acc: 0.8647 - val_loss: 0.4440 - val_acc: 0.8473\n",
      "Epoch 3/10\n",
      "57600/57600 [==============================] - 139s 2ms/step - loss: 0.2301 - acc: 0.9365 - val_loss: 0.1723 - val_acc: 0.9508\n",
      "Epoch 4/10\n",
      "57600/57600 [==============================] - 139s 2ms/step - loss: 0.1451 - acc: 0.9618 - val_loss: 0.1706 - val_acc: 0.9439\n",
      "Epoch 5/10\n",
      "57600/57600 [==============================] - 139s 2ms/step - loss: 0.1064 - acc: 0.9717 - val_loss: 0.1137 - val_acc: 0.9650\n",
      "Epoch 6/10\n",
      "57600/57600 [==============================] - 139s 2ms/step - loss: 0.0836 - acc: 0.9785 - val_loss: 0.0940 - val_acc: 0.9721\n",
      "Epoch 7/10\n",
      "57600/57600 [==============================] - 139s 2ms/step - loss: 0.0653 - acc: 0.9833 - val_loss: 0.0765 - val_acc: 0.9756\n",
      "Epoch 8/10\n",
      "57600/57600 [==============================] - 139s 2ms/step - loss: 0.0571 - acc: 0.9848 - val_loss: 0.0816 - val_acc: 0.9734\n",
      "Epoch 9/10\n",
      "57600/57600 [==============================] - 139s 2ms/step - loss: 0.0510 - acc: 0.9865 - val_loss: 0.0754 - val_acc: 0.9744\n",
      "Epoch 10/10\n",
      "57600/57600 [==============================] - 139s 2ms/step - loss: 0.0486 - acc: 0.9869 - val_loss: 0.0734 - val_acc: 0.9770\n"
     ]
    },
    {
     "data": {
      "image/png": "[encoded data removed]",
      "text/plain": [
       "<Figure size 432x288 with 1 Axes>"
      ]
     },
     "metadata": {
      "needs_background": "light"
     },
     "output_type": "display_data"
    },
    {
     "data": {
      "image/png": "[encoded data removed]",
      "text/plain": [
       "<Figure size 432x288 with 1 Axes>"
      ]
     },
     "metadata": {
      "needs_background": "light"
     },
     "output_type": "display_data"
    }
   ],
   "source": [
    "if not os.path.exists(op_folder):\n",
    "    os.makedirs(op_folder)\n",
    "    \n",
    "history = model.fit(X_train, y_train, validation_data=(X_test, y_test), epochs=10, batch_size=300)\n",
    "\n",
    "# Plot training & validation accuracy values\n",
    "plt.plot(history.history['acc'])\n",
    "plt.plot(history.history['val_acc'])\n",
    "plt.title('Model accuracy')\n",
    "plt.ylabel('Accuracy')\n",
    "plt.xlabel('Epoch')\n",
    "plt.legend(['Train', 'Test'], loc='lower right')\n",
    "plt.savefig(op_folder + \"/accuracy.png\", bbox_inches='tight')\n",
    "plt.show()\n",
    "\n",
    "# Plot training & validation loss values\n",
    "plt.plot(history.history['loss'])\n",
    "plt.plot(history.history['val_loss'])\n",
    "plt.title('Model loss')\n",
    "plt.ylabel('Loss')\n",
    "plt.xlabel('Epoch')\n",
    "plt.legend(['Train', 'Test'], loc='upper right')\n",
    "plt.savefig(op_folder + \"/loss.png\", bbox_inches='tight')\n",
    "plt.show()"
   ]
  },
  {
   "cell_type": "code",
   "execution_count": 6,
   "metadata": {},
   "outputs": [],
   "source": [
    "# Final evaluation of the model\n",
    "y_pred = model.predict(X_test)\n"
   ]
  },
  {
   "cell_type": "code",
   "execution_count": 7,
   "metadata": {},
   "outputs": [
    {
     "name": "stdout",
     "output_type": "stream",
     "text": [
      "Accuracy 0.9769791666666666\n",
      "Precision 0.9777776372497188\n",
      "Recall 0.9769791666666667\n",
      "Fscore 0.976950191735133\n"
     ]
    }
   ],
   "source": [
    "cm = confusion_matrix(y_test.argmax(axis=1), y_pred.argmax(axis=1))\n",
    "fscore = f1_score(y_test.argmax(axis=1), y_pred.argmax(axis=1), average='macro')\n",
    "precision = precision_score(y_test.argmax(axis=1), y_pred.argmax(axis=1), average='macro')\n",
    "recall = recall_score(y_test.argmax(axis=1), y_pred.argmax(axis=1), average='macro')\n",
    "accuracy = accuracy_score(y_test.argmax(axis=1), y_pred.argmax(axis=1))\n",
    "\n",
    "np.savetxt(op_folder + \"/confusion_matrix.txt\", cm, fmt=\"%d\")\n",
    "with open(op_folder + \"/scores.txt\", 'w') as the_file:\n",
    "    the_file.write(\"Accuracy \" + str(accuracy) + \n",
    "                  \"\\nPrecision \" + str(precision) + \n",
    "                  \"\\nRecall \" + str(recall) +\n",
    "                  \"\\nFscore \" + str(fscore))\n",
    "\n",
    "print (\"Accuracy \" + str(accuracy) + \n",
    "      \"\\nPrecision \" + str(precision) + \n",
    "      \"\\nRecall \" + str(recall) +\n",
    "      \"\\nFscore \" + str(fscore))"
   ]
  }
 ],
 "metadata": {
  "kernelspec": {
   "display_name": "Python 3",
   "language": "python",
   "name": "python3"
  },
  "language_info": {
   "codemirror_mode": {
    "name": "ipython",
    "version": 3
   },
   "file_extension": ".py",
   "mimetype": "text/x-python",
   "name": "python",
   "nbconvert_exporter": "python",
   "pygments_lexer": "ipython3",
   "version": "3.6.7"
  }
 },
 "nbformat": 4,
 "nbformat_minor": 2
}
