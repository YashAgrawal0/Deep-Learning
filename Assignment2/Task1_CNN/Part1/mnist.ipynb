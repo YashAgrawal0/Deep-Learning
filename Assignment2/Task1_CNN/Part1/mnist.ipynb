{
 "cells": [
  {
   "cell_type": "code",
   "execution_count": 1,
   "metadata": {},
   "outputs": [
    {
     "name": "stderr",
     "output_type": "stream",
     "text": [
      "Using TensorFlow backend.\n"
     ]
    }
   ],
   "source": [
    "import numpy as np\n",
    "import os\n",
    "import matplotlib.pyplot as plt\n",
    "from keras.utils import to_categorical\n",
    "from keras.models import Sequential\n",
    "from keras.layers import Dense, Conv2D, Flatten, BatchNormalization, MaxPooling2D\n",
    "from keras import metrics\n",
    "from keras.models import model_from_json\n",
    "from keras.callbacks import Callback\n",
    "from sklearn.metrics import confusion_matrix, f1_score, precision_score, recall_score, accuracy_score"
   ]
  },
  {
   "cell_type": "code",
   "execution_count": 2,
   "metadata": {},
   "outputs": [],
   "source": [
    "mnist_folder = \"./mnist\"\n",
    "op_folder = \"./result/mnist\"\n",
    "X_train = np.load(mnist_folder + \"/x_train.npy\")\n",
    "y_train = np.load(mnist_folder + \"/y_train.npy\")\n",
    "X_test = np.load(mnist_folder + \"/x_test.npy\")\n",
    "y_test = np.load(mnist_folder + \"/y_test.npy\")"
   ]
  },
  {
   "cell_type": "code",
   "execution_count": 3,
   "metadata": {},
   "outputs": [
    {
     "data": {
      "text/plain": [
       "(60000, 28, 28, 1)"
      ]
     },
     "execution_count": 3,
     "metadata": {},
     "output_type": "execute_result"
    }
   ],
   "source": [
    "X_train = X_train.reshape(60000, 28, 28, 1)\n",
    "X_test = X_test.reshape(10000, 28, 28, 1)\n",
    "y_train = to_categorical(y_train)\n",
    "y_test = to_categorical(y_test)\n",
    "X_train.shape"
   ]
  },
  {
   "cell_type": "code",
   "execution_count": 4,
   "metadata": {},
   "outputs": [
    {
     "name": "stdout",
     "output_type": "stream",
     "text": [
      "_________________________________________________________________\n",
      "Layer (type)                 Output Shape              Param #   \n",
      "=================================================================\n",
      "conv2d_1 (Conv2D)            (None, 22, 22, 32)        1600      \n",
      "_________________________________________________________________\n",
      "batch_normalization_1 (Batch (None, 22, 22, 32)        128       \n",
      "_________________________________________________________________\n",
      "max_pooling2d_1 (MaxPooling2 (None, 11, 11, 32)        0         \n",
      "_________________________________________________________________\n",
      "flatten_1 (Flatten)          (None, 3872)              0         \n",
      "_________________________________________________________________\n",
      "dense_1 (Dense)              (None, 1024)              3965952   \n",
      "_________________________________________________________________\n",
      "dense_2 (Dense)              (None, 10)                10250     \n",
      "=================================================================\n",
      "Total params: 3,977,930\n",
      "Trainable params: 3,977,866\n",
      "Non-trainable params: 64\n",
      "_________________________________________________________________\n"
     ]
    }
   ],
   "source": [
    "model = Sequential()\n",
    "model.add(Conv2D(32, kernel_size=7, strides=1, activation=\"relu\", input_shape=(28,28,1)))\n",
    "model.add(BatchNormalization())\n",
    "model.add(MaxPooling2D(pool_size=2, strides=2))\n",
    "model.add(Flatten())\n",
    "model.add(Dense(1024, activation=\"relu\"))\n",
    "model.add(Dense(10, activation=\"softmax\"))\n",
    "model.compile(optimizer=\"adam\", loss=\"categorical_crossentropy\", metrics=['accuracy'])\n",
    "model.output_shape\n",
    "model.summary()"
   ]
  },
  {
   "cell_type": "code",
   "execution_count": 5,
   "metadata": {},
   "outputs": [
    {
     "name": "stdout",
     "output_type": "stream",
     "text": [
      "Train on 60000 samples, validate on 10000 samples\n",
      "Epoch 1/4\n",
      "60000/60000 [==============================] - 66s 1ms/step - loss: 1.1054 - acc: 0.8995 - val_loss: 0.0794 - val_acc: 0.9780\n",
      "Epoch 2/4\n",
      "60000/60000 [==============================] - 66s 1ms/step - loss: 0.0439 - acc: 0.9879 - val_loss: 0.0525 - val_acc: 0.9853\n",
      "Epoch 3/4\n",
      "60000/60000 [==============================] - 66s 1ms/step - loss: 0.0201 - acc: 0.9937 - val_loss: 0.0533 - val_acc: 0.9847\n",
      "Epoch 4/4\n",
      "60000/60000 [==============================] - 67s 1ms/step - loss: 0.0106 - acc: 0.9968 - val_loss: 0.0544 - val_acc: 0.9855\n"
     ]
    },
    {
     "data": {
      "image/png": "[encoded data removed]",
      "text/plain": [
       "<Figure size 432x288 with 1 Axes>"
      ]
     },
     "metadata": {
      "needs_background": "light"
     },
     "output_type": "display_data"
    },
    {
     "data": {
      "image/png": "[encoded data removed]",
      "text/plain": [
       "<Figure size 432x288 with 1 Axes>"
      ]
     },
     "metadata": {
      "needs_background": "light"
     },
     "output_type": "display_data"
    }
   ],
   "source": [
    "if not os.path.exists(op_folder):\n",
    "    os.makedirs(op_folder)\n",
    "    \n",
    "history = model.fit(X_train, y_train, validation_data=(X_test, y_test), epochs=4, batch_size=300)\n",
    "\n",
    "# Plot training & validation accuracy values\n",
    "plt.plot(history.history['acc'])\n",
    "plt.plot(history.history['val_acc'])\n",
    "plt.title('Model accuracy')\n",
    "plt.ylabel('Accuracy')\n",
    "plt.xlabel('Epoch')\n",
    "plt.legend(['Train', 'Test'], loc='lower right')\n",
    "plt.savefig(op_folder + \"/accuracy.png\", bbox_inches='tight')\n",
    "plt.show()\n",
    "\n",
    "# Plot training & validation loss values\n",
    "plt.plot(history.history['loss'])\n",
    "plt.plot(history.history['val_loss'])\n",
    "plt.title('Model loss')\n",
    "plt.ylabel('Loss')\n",
    "plt.xlabel('Epoch')\n",
    "plt.legend(['Train', 'Test'], loc='upper right')\n",
    "plt.savefig(op_folder + \"/loss.png\", bbox_inches='tight')\n",
    "plt.show()"
   ]
  },
  {
   "cell_type": "code",
   "execution_count": 6,
   "metadata": {},
   "outputs": [],
   "source": [
    "# Final evaluation of the model\n",
    "y_pred = model.predict(X_test)\n"
   ]
  },
  {
   "cell_type": "code",
   "execution_count": 7,
   "metadata": {},
   "outputs": [
    {
     "name": "stdout",
     "output_type": "stream",
     "text": [
      "Accuracy 0.9855\n",
      "Precision 0.9852220721591435\n",
      "Recall 0.9853429782778328\n",
      "Fscore 0.9852384898954405\n"
     ]
    }
   ],
   "source": [
    "cm = confusion_matrix(y_test.argmax(axis=1), y_pred.argmax(axis=1))\n",
    "fscore = f1_score(y_test.argmax(axis=1), y_pred.argmax(axis=1), average='macro')\n",
    "precision = precision_score(y_test.argmax(axis=1), y_pred.argmax(axis=1), average='macro')\n",
    "recall = recall_score(y_test.argmax(axis=1), y_pred.argmax(axis=1), average='macro')\n",
    "accuracy = accuracy_score(y_test.argmax(axis=1), y_pred.argmax(axis=1))\n",
    "\n",
    "np.savetxt(op_folder + \"/confusion_matrix.txt\", cm, fmt=\"%d\")\n",
    "with open(op_folder + \"/scores.txt\", 'w') as the_file:\n",
    "    the_file.write(\"Accuracy \" + str(accuracy) + \n",
    "                  \"\\nPrecision \" + str(precision) + \n",
    "                  \"\\nRecall \" + str(recall) +\n",
    "                  \"\\nFscore \" + str(fscore))\n",
    "\n",
    "print (\"Accuracy \" + str(accuracy) + \n",
    "      \"\\nPrecision \" + str(precision) + \n",
    "      \"\\nRecall \" + str(recall) +\n",
    "      \"\\nFscore \" + str(fscore))"
   ]
  },
  {
   "cell_type": "code",
   "execution_count": null,
   "metadata": {},
   "outputs": [],
   "source": []
  }
 ],
 "metadata": {
  "kernelspec": {
   "display_name": "Python 3",
   "language": "python",
   "name": "python3"
  },
  "language_info": {
   "codemirror_mode": {
    "name": "ipython",
    "version": 3
   },
   "file_extension": ".py",
   "mimetype": "text/x-python",
   "name": "python",
   "nbconvert_exporter": "python",
   "pygments_lexer": "ipython3",
   "version": "3.6.8"
  }
 },
 "nbformat": 4,
 "nbformat_minor": 2
}
