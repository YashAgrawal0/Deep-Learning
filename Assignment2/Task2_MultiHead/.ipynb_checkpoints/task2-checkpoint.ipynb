{
 "cells": [
  {
   "cell_type": "code",
   "execution_count": 87,
   "metadata": {},
   "outputs": [],
   "source": [
    "import numpy as np\n",
    "import os\n",
    "import matplotlib.pyplot as plt\n",
    "from keras.utils import to_categorical\n",
    "from keras.models import Sequential, Model\n",
    "from keras.layers import Dense, Conv2D, Flatten, BatchNormalization, MaxPooling2D, Dropout, Input\n",
    "from keras import metrics\n",
    "from keras.models import model_from_json\n",
    "from keras.callbacks import Callback\n",
    "from keras import optimizers\n",
    "from sklearn.metrics import confusion_matrix, f1_score, precision_score, recall_score, accuracy_score"
   ]
  },
  {
   "cell_type": "code",
   "execution_count": 88,
   "metadata": {},
   "outputs": [
    {
     "name": "stdout",
     "output_type": "stream",
     "text": [
      "((57600, 28, 28, 3), (38400, 28, 28, 3), (57600, 12), (38400, 12))\n"
     ]
    }
   ],
   "source": [
    "total_classes = 96\n",
    "\n",
    "line_folder = \"../line_data_4classes\"\n",
    "op_folder = \"./result2\"\n",
    "\n",
    "X_train = np.load(\"../line_data\" + \"/x_train.npy\")\n",
    "y_train_length = np.load(line_folder + \"/y_train_length.npy\")\n",
    "y_train_width = np.load(line_folder + \"/y_train_width.npy\")\n",
    "y_train_color = np.load(line_folder + \"/y_train_color.npy\")\n",
    "y_train_angle = np.load(line_folder + \"/y_train_angle.npy\")\n",
    "\n",
    "X_test = np.load(\"../line_data\" + \"/x_test.npy\")\n",
    "y_test_length = np.load(line_folder + \"/y_test_length.npy\")\n",
    "y_test_width = np.load(line_folder + \"/y_test_width.npy\")\n",
    "y_test_color = np.load(line_folder + \"/y_test_color.npy\")\n",
    "y_test_angle = np.load(line_folder + \"/y_test_angle.npy\")\n",
    "\n",
    "# X_train = X_train[:1000]\n",
    "# y_train = y_train[:1000]\n",
    "# X_test = X_test[:1000]\n",
    "# y_test = y_test[:1000]\n",
    "\n",
    "print (X_train.shape, X_test.shape, y_train_angle.shape, y_test_angle.shape)"
   ]
  },
  {
   "cell_type": "code",
   "execution_count": 89,
   "metadata": {},
   "outputs": [
    {
     "name": "stdout",
     "output_type": "stream",
     "text": [
      "((57600, 28, 28, 3), (38400, 28, 28, 3), (57600, 12), (38400, 12))\n"
     ]
    }
   ],
   "source": [
    "X_train = X_train.reshape(57600, 28, 28, 3)\n",
    "X_test = X_test.reshape(38400, 28, 28, 3)\n",
    "print (X_train.shape, X_test.shape, y_train_angle.shape, y_test_angle.shape)"
   ]
  },
  {
   "cell_type": "code",
   "execution_count": 90,
   "metadata": {},
   "outputs": [],
   "source": [
    "def getBranch(inp, out_neuron, out_act, name):\n",
    "    x = Dense(512, activation=\"relu\")(inp)\n",
    "    x = Dropout(0.4)(x)\n",
    "    x = BatchNormalization()(x)\n",
    "    x = Dense(out_neuron, activation=out_act, name=name)(x)\n",
    "    return x"
   ]
  },
  {
   "cell_type": "code",
   "execution_count": 91,
   "metadata": {},
   "outputs": [],
   "source": [
    "def getCM(y_test, y_pred):\n",
    "    cm = [[0, 0], [0, 0]]\n",
    "    for i in range(y_test.size):\n",
    "        if(y_test[i] == y_pred[i]):\n",
    "            if(y_test[i] == True):\n",
    "                cm[1][1] += 1\n",
    "            else:\n",
    "                cm[0][0] += 1\n",
    "        else:\n",
    "            if(y_test[i] == True):\n",
    "                cm[0][1] += 1\n",
    "            else:\n",
    "                cm[1][0] += 1\n",
    "    cm = np.array(cm)\n",
    "    return cm"
   ]
  },
  {
   "cell_type": "code",
   "execution_count": 92,
   "metadata": {},
   "outputs": [],
   "source": [
    "inp = Input(shape=(28,28,3))\n",
    "cnn = Conv2D(32, kernel_size=3, strides=1, activation=\"relu\")(inp)\n",
    "cnn = BatchNormalization()(cnn)\n",
    "cnn = MaxPooling2D(pool_size=2, strides=1)(cnn)\n",
    "cnn = Conv2D(8, kernel_size=1, strides=1, activation=\"relu\")(cnn)\n",
    "cnn = BatchNormalization()(cnn)\n",
    "cnn = Dropout(rate=0.4)(cnn)\n",
    "cnn = Flatten()(cnn)"
   ]
  },
  {
   "cell_type": "code",
   "execution_count": 93,
   "metadata": {},
   "outputs": [
    {
     "data": {
      "text/plain": [
       "[(None, 1), (None, 1), (None, 1), (None, 12)]"
      ]
     },
     "execution_count": 93,
     "metadata": {},
     "output_type": "execute_result"
    }
   ],
   "source": [
    "lengthB = getBranch(cnn, 1, \"sigmoid\", \"lengthB\")\n",
    "widthB = getBranch(cnn, 1, \"sigmoid\", \"widthB\")\n",
    "colorB = getBranch(cnn, 1, \"sigmoid\", \"colorB\")\n",
    "angleB = getBranch(cnn, 12, \"softmax\", \"angleB\")\n",
    "model = Model(inputs=inp, outputs=[lengthB, widthB, colorB, angleB])\n",
    "model.output_shape"
   ]
  },
  {
   "cell_type": "code",
   "execution_count": 94,
   "metadata": {},
   "outputs": [],
   "source": [
    "model.compile(optimizer=\"adam\",\n",
    "              loss={\"lengthB\": \"binary_crossentropy\", \"widthB\": \"binary_crossentropy\",\n",
    "                    \"colorB\": \"binary_crossentropy\", \"angleB\": \"categorical_crossentropy\"},\n",
    "              metrics=['accuracy'])"
   ]
  },
  {
   "cell_type": "code",
   "execution_count": 95,
   "metadata": {},
   "outputs": [
    {
     "name": "stdout",
     "output_type": "stream",
     "text": [
      "Train on 57600 samples, validate on 38400 samples\n",
      "Epoch 1/2\n",
      "57600/57600 [==============================] - 209s 4ms/step - loss: 1.2947 - lengthB_loss: 0.1163 - widthB_loss: 0.0693 - colorB_loss: 0.0180 - angleB_loss: 1.0912 - lengthB_acc: 0.9574 - widthB_acc: 0.9736 - colorB_acc: 0.9935 - angleB_acc: 0.6111 - val_loss: 1.2195 - val_lengthB_loss: 0.4414 - val_widthB_loss: 0.0570 - val_colorB_loss: 0.0295 - val_angleB_loss: 0.6916 - val_lengthB_acc: 0.8081 - val_widthB_acc: 0.9792 - val_colorB_acc: 0.9905 - val_angleB_acc: 0.7189\n",
      "Epoch 2/2\n",
      "57600/57600 [==============================] - 204s 4ms/step - loss: 0.3455 - lengthB_loss: 0.0210 - widthB_loss: 0.0163 - colorB_loss: 0.0058 - angleB_loss: 0.3024 - lengthB_acc: 0.9956 - widthB_acc: 0.9944 - colorB_acc: 0.9982 - angleB_acc: 0.8896 - val_loss: 0.2846 - val_lengthB_loss: 0.0207 - val_widthB_loss: 0.0117 - val_colorB_loss: 0.0011 - val_angleB_loss: 0.2511 - val_lengthB_acc: 0.9944 - val_widthB_acc: 0.9955 - val_colorB_acc: 0.9997 - val_angleB_acc: 0.8964\n"
     ]
    }
   ],
   "source": [
    "history = model.fit(X_train, [y_train_length, y_train_width, y_train_color, y_train_angle],\n",
    "                    validation_data=(X_test, [y_test_length, y_test_width, y_test_color, y_test_angle]),\n",
    "                    epochs=2, batch_size=100)"
   ]
  },
  {
   "cell_type": "code",
   "execution_count": 96,
   "metadata": {},
   "outputs": [
    {
     "name": "stdout",
     "output_type": "stream",
     "text": [
      "['loss', 'val_widthB_acc', 'val_lengthB_acc', 'val_angleB_acc', 'val_colorB_loss', 'val_loss', 'val_colorB_acc', 'val_widthB_loss', 'val_lengthB_loss', 'widthB_acc', 'lengthB_acc', 'val_angleB_loss', 'angleB_loss', 'colorB_acc', 'widthB_loss', 'lengthB_loss', 'angleB_acc', 'colorB_loss']\n"
     ]
    },
    {
     "data": {
      "image/png": "[encoded data removed]",
      "text/plain": [
       "<Figure size 432x288 with 1 Axes>"
      ]
     },
     "metadata": {
      "needs_background": "light"
     },
     "output_type": "display_data"
    },
    {
     "data": {
      "image/png": "[encoded data removed]",
      "text/plain": [
       "<Figure size 432x288 with 1 Axes>"
      ]
     },
     "metadata": {
      "needs_background": "light"
     },
     "output_type": "display_data"
    },
    {
     "data": {
      "image/png": "[encoded data removed]",
      "text/plain": [
       "<Figure size 432x288 with 1 Axes>"
      ]
     },
     "metadata": {
      "needs_background": "light"
     },
     "output_type": "display_data"
    }
   ],
   "source": [
    "if not os.path.exists(op_folder):\n",
    "    os.makedirs(op_folder)\n",
    "    \n",
    "print history.history.keys()\n",
    "\n",
    "# Plot training accuracy values\n",
    "plt.plot(history.history['widthB_acc'])\n",
    "plt.plot(history.history['lengthB_acc'])\n",
    "plt.plot(history.history['angleB_acc'])\n",
    "plt.plot(history.history['colorB_acc'])\n",
    "\n",
    "plt.title('Training Accuracy')\n",
    "plt.ylabel('Accuracy')\n",
    "plt.xlabel('Epoch')\n",
    "plt.legend(['TrainWidth', 'TrainLength', 'TrainAngle', 'TrainColor'], loc='lower right')\n",
    "plt.savefig(op_folder + \"/train_acc.png\", bbox_inches='tight')\n",
    "plt.show()\n",
    "\n",
    "# Plot validating accuracy values\n",
    "plt.plot(history.history['val_widthB_acc'])\n",
    "plt.plot(history.history['val_lengthB_acc'])\n",
    "plt.plot(history.history['val_angleB_acc'])\n",
    "plt.plot(history.history['val_colorB_acc'])\n",
    "\n",
    "plt.title('Testing Accuracy')\n",
    "plt.ylabel('Accuracy')\n",
    "plt.xlabel('Epoch')\n",
    "plt.legend(['TestWidth', 'TestLength', 'TestAngle', 'TestColor'], loc='lower right')\n",
    "plt.savefig(op_folder + \"/test_acc.png\", bbox_inches='tight')\n",
    "plt.show()\n",
    "\n",
    "# # Plot training & validation loss values\n",
    "\n",
    "plt.plot(history.history['loss'])\n",
    "plt.plot(history.history['val_loss'])\n",
    "plt.title('Model loss')\n",
    "plt.ylabel('Loss')\n",
    "plt.xlabel('Epoch')\n",
    "plt.legend(['Train', 'Test'], loc='upper right')\n",
    "plt.savefig(op_folder + \"/loss.png\", bbox_inches='tight')\n",
    "plt.show()"
   ]
  },
  {
   "cell_type": "code",
   "execution_count": 101,
   "metadata": {},
   "outputs": [],
   "source": [
    "# Final evaluation of the model\n",
    "y_pred_length, y_pred_width, y_pred_color, y_pred_angle = model.predict(X_test)\n"
   ]
  },
  {
   "cell_type": "code",
   "execution_count": 102,
   "metadata": {
    "scrolled": true
   },
   "outputs": [],
   "source": [
    "y_pred_length = y_pred_length >= 0.5\n",
    "y_test_length = y_test_length >= 0.5\n",
    "\n",
    "y_pred_width = y_pred_width >= 0.5\n",
    "y_test_width = y_test_width >= 0.5\n",
    "\n",
    "y_pred_color = y_pred_color >= 0.5\n",
    "y_test_color = y_test_color >= 0.5\n",
    "\n",
    "y_pred_angle_temp = y_pred_angle >= 0.5\n",
    "y_test_angle_temp = y_test_angle >= 0.5\n",
    "\n",
    "y_test_length = y_test_length.reshape(y_pred_length.shape)\n",
    "y_test_width = y_test_length.reshape(y_pred_width.shape)\n",
    "y_test_color = y_test_length.reshape(y_pred_color.shape)\n"
   ]
  },
  {
   "cell_type": "code",
   "execution_count": 103,
   "metadata": {},
   "outputs": [
    {
     "ename": "IndentationError",
     "evalue": "expected an indented block (<ipython-input-103-b3e283a63ab2>, line 5)",
     "output_type": "error",
     "traceback": [
      "\u001b[0;36m  File \u001b[0;32m\"<ipython-input-103-b3e283a63ab2>\"\u001b[0;36m, line \u001b[0;32m5\u001b[0m\n\u001b[0;31m    for i in range(total_test_data):\u001b[0m\n\u001b[0m      ^\u001b[0m\n\u001b[0;31mIndentationError\u001b[0m\u001b[0;31m:\u001b[0m expected an indented block\n"
     ]
    }
   ],
   "source": [
    "# for i in range(y_pred_length.size):\n",
    "#     print y_test_width[i][0], y_pred_width[i][0]\n",
    "# total_test_data = y_pred_color.size\n",
    "# correct = 0\n",
    "for i in range(total_test_data):\n",
    "    if(np.array_equal(y_pred_length[i], y_test_length[i]) and np.array_equal(y_pred_width[i], y_test_width[i])\n",
    "      and np.array_equal(y_pred_color[i], y_test_color[i]) and np.array_equal(y_pred_angle_temp[i], y_test_angle_temp[i])):\n",
    "        correct += 1.0\n",
    "    if(np.array_equal(y_pred_width[i], y_test_width[i])):\n",
    "        correct += 1.0\n",
    "total_acc = correct / total_test_data\n",
    "print (\"Total testing accuracy: \" + str(total_acc))"
   ]
  },
  {
   "cell_type": "code",
   "execution_count": 100,
   "metadata": {},
   "outputs": [
    {
     "name": "stdout",
     "output_type": "stream",
     "text": [
      "[[18996    11]\n",
      " [  204 19189]]\n",
      "[[10021  9650]\n",
      " [ 9179  9550]]\n",
      "[[9620 9618]\n",
      " [9580 9582]]\n",
      "[[2558  277    0    0    0    0    0    0    0    0    0  365]\n",
      " [   6 2920  270    0    0    0    0    0    0    0    0    4]\n",
      " [   0    0 3149   51    0    0    0    0    0    0    0    0]\n",
      " [   0    0   47 3145    8    0    0    0    0    0    0    0]\n",
      " [   0    0    0  114 3081    1    0    0    4    0    0    0]\n",
      " [   0    0    0    3  491 2690    6   10    0    0    0    0]\n",
      " [   0    0    0    0    0  160 2433  596    0    0    0   11]\n",
      " [   0    0    0    0    0    6   23 2683  488    0    0    0]\n",
      " [   0    0    0    7    1    0    0   11 3110   71    0    0]\n",
      " [   0    0    0    0    0    0    0    0    8 3182   10    0]\n",
      " [   0    0    0    0    0    0    0    0    0  309 2889    2]\n",
      " [  90   30    0    0    0    0    0    0    0    0  497 2583]]\n",
      "Accuracy: Len, Wid, Color, Angle\n",
      "1.0 1.0 1.0 0.8964322916666667\n",
      "1.0 1.0 1.0 0.895204955810062\n"
     ]
    }
   ],
   "source": [
    "cm_length = getCM(y_test_length, y_pred_length)\n",
    "cm_width = getCM(y_test_width, y_pred_width)\n",
    "cm_color = getCM(y_test_color, y_pred_color)\n",
    "cm_angle = confusion_matrix(y_test_angle.argmax(axis=1), y_pred_angle.argmax(axis=1))\n",
    "print cm_length\n",
    "print cm_width\n",
    "print cm_color\n",
    "print cm_angle\n",
    "\n",
    "# print y_pred_length.argmax(axis=1), y_test_length\n",
    "# fscore = f1_score(y_test.argmax(axis=1), y_pred.argmax(axis=1), average='macro')\n",
    "# precision = precision_score(y_test.argmax(axis=1), y_pred.argmax(axis=1), average='macro')\n",
    "# recall = recall_score(y_test.argmax(axis=1), y_pred.argmax(axis=1), average='macro')\n",
    "acc_len = accuracy_score(y_test_length.argmax(axis=1), y_pred_length.argmax(axis=1))\n",
    "acc_wid = accuracy_score(y_test_width.argmax(axis=1), y_pred_width.argmax(axis=1))\n",
    "acc_color = accuracy_score(y_test_color.argmax(axis=1), y_pred_color.argmax(axis=1))\n",
    "acc_angle = accuracy_score(y_test_angle.argmax(axis=1), y_pred_angle.argmax(axis=1))\n",
    "\n",
    "fs_len = f1_score(y_test_length.argmax(axis=1), y_pred_length.argmax(axis=1), average='macro')\n",
    "fs_wid = f1_score(y_test_width.argmax(axis=1), y_pred_width.argmax(axis=1), average='macro')\n",
    "fs_color = f1_score(y_test_color.argmax(axis=1), y_pred_color.argmax(axis=1), average='macro')\n",
    "fs_angle = f1_score(y_test_angle.argmax(axis=1), y_pred_angle.argmax(axis=1), average='macro')\n",
    "\n",
    "print \"Accuracy: Len, Wid, Color, Angle\"\n",
    "print acc_len, acc_wid, acc_color, acc_angle\n",
    "print fs_len, fs_wid, fs_color, fs_angle\n",
    "\n",
    "np.savetxt(op_folder + \"/cm_angle.txt\", cm_angle, fmt=\"%d\")\n",
    "with open(op_folder + \"/scores.txt\", 'w') as the_file:\n",
    "    the_file.write(\"Accuracy:\\nLen \" + str(acc_len) + \n",
    "                  \"\\nWid \" + str(acc_wid) + \n",
    "                  \"\\nColor \" + str(acc_color) +\n",
    "                  \"\\nAngle \" + str(acc_angle) + \n",
    "                  \"\\nFScore:\\nLen \" + str(fs_len) + \n",
    "                  \"\\nWid: \" + str(fs_wid) + \n",
    "                  \"\\nColor: \" + str(fs_color) +\n",
    "                  \"\\nAngle: \" + str(fs_angle))"
   ]
  }
 ],
 "metadata": {
  "kernelspec": {
   "display_name": "Python 3",
   "language": "python",
   "name": "python3"
  },
  "language_info": {
   "codemirror_mode": {
    "name": "ipython",
    "version": 2
   },
   "file_extension": ".py",
   "mimetype": "text/x-python",
   "name": "python",
   "nbconvert_exporter": "python",
   "pygments_lexer": "ipython2",
   "version": "2.7.12"
  }
 },
 "nbformat": 4,
 "nbformat_minor": 2
}
