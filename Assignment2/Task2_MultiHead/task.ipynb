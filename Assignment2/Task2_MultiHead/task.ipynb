{
 "cells": [
  {
   "cell_type": "code",
   "execution_count": 1,
   "metadata": {},
   "outputs": [
    {
     "name": "stderr",
     "output_type": "stream",
     "text": [
      "Using TensorFlow backend.\n"
     ]
    }
   ],
   "source": [
    "import numpy as np\n",
    "import os\n",
    "import matplotlib.pyplot as plt\n",
    "from keras.utils import to_categorical\n",
    "from keras.models import Sequential, Model\n",
    "from keras.layers import Dense, Conv2D, Flatten, BatchNormalization, MaxPooling2D, Dropout, Input\n",
    "from keras import metrics\n",
    "from keras.models import model_from_json\n",
    "from keras.callbacks import Callback\n",
    "from keras import optimizers\n",
    "from sklearn.metrics import confusion_matrix, f1_score, precision_score, recall_score, accuracy_score"
   ]
  },
  {
   "cell_type": "code",
   "execution_count": 3,
   "metadata": {},
   "outputs": [
    {
     "ename": "FileNotFoundError",
     "evalue": "[Errno 2] No such file or directory: '../line_data_4/y_train_length.npy'",
     "output_type": "error",
     "traceback": [
      "\u001b[0;31m---------------------------------------------------------------------------\u001b[0m",
      "\u001b[0;31mFileNotFoundError\u001b[0m                         Traceback (most recent call last)",
      "\u001b[0;32m<ipython-input-3-c002615c98ef>\u001b[0m in \u001b[0;36m<module>\u001b[0;34m\u001b[0m\n\u001b[1;32m      5\u001b[0m \u001b[0;34m\u001b[0m\u001b[0m\n\u001b[1;32m      6\u001b[0m \u001b[0mX_train\u001b[0m \u001b[0;34m=\u001b[0m \u001b[0mnp\u001b[0m\u001b[0;34m.\u001b[0m\u001b[0mload\u001b[0m\u001b[0;34m(\u001b[0m\u001b[0;34m\"../line_data\"\u001b[0m \u001b[0;34m+\u001b[0m \u001b[0;34m\"/x_train.npy\"\u001b[0m\u001b[0;34m)\u001b[0m\u001b[0;34m\u001b[0m\u001b[0;34m\u001b[0m\u001b[0m\n\u001b[0;32m----> 7\u001b[0;31m \u001b[0my_train_length\u001b[0m \u001b[0;34m=\u001b[0m \u001b[0mnp\u001b[0m\u001b[0;34m.\u001b[0m\u001b[0mload\u001b[0m\u001b[0;34m(\u001b[0m\u001b[0mline_folder\u001b[0m \u001b[0;34m+\u001b[0m \u001b[0;34m\"/y_train_length.npy\"\u001b[0m\u001b[0;34m)\u001b[0m\u001b[0;34m\u001b[0m\u001b[0;34m\u001b[0m\u001b[0m\n\u001b[0m\u001b[1;32m      8\u001b[0m \u001b[0my_train_width\u001b[0m \u001b[0;34m=\u001b[0m \u001b[0mnp\u001b[0m\u001b[0;34m.\u001b[0m\u001b[0mload\u001b[0m\u001b[0;34m(\u001b[0m\u001b[0mline_folder\u001b[0m \u001b[0;34m+\u001b[0m \u001b[0;34m\"/y_train_width.npy\"\u001b[0m\u001b[0;34m)\u001b[0m\u001b[0;34m\u001b[0m\u001b[0;34m\u001b[0m\u001b[0m\n\u001b[1;32m      9\u001b[0m \u001b[0my_train_color\u001b[0m \u001b[0;34m=\u001b[0m \u001b[0mnp\u001b[0m\u001b[0;34m.\u001b[0m\u001b[0mload\u001b[0m\u001b[0;34m(\u001b[0m\u001b[0mline_folder\u001b[0m \u001b[0;34m+\u001b[0m \u001b[0;34m\"/y_train_color.npy\"\u001b[0m\u001b[0;34m)\u001b[0m\u001b[0;34m\u001b[0m\u001b[0;34m\u001b[0m\u001b[0m\n",
      "\u001b[0;32m~/anaconda3/lib/python3.6/site-packages/numpy/lib/npyio.py\u001b[0m in \u001b[0;36mload\u001b[0;34m(file, mmap_mode, allow_pickle, fix_imports, encoding)\u001b[0m\n\u001b[1;32m    413\u001b[0m         \u001b[0mown_fid\u001b[0m \u001b[0;34m=\u001b[0m \u001b[0;32mFalse\u001b[0m\u001b[0;34m\u001b[0m\u001b[0;34m\u001b[0m\u001b[0m\n\u001b[1;32m    414\u001b[0m     \u001b[0;32melse\u001b[0m\u001b[0;34m:\u001b[0m\u001b[0;34m\u001b[0m\u001b[0;34m\u001b[0m\u001b[0m\n\u001b[0;32m--> 415\u001b[0;31m         \u001b[0mfid\u001b[0m \u001b[0;34m=\u001b[0m \u001b[0mopen\u001b[0m\u001b[0;34m(\u001b[0m\u001b[0mos_fspath\u001b[0m\u001b[0;34m(\u001b[0m\u001b[0mfile\u001b[0m\u001b[0;34m)\u001b[0m\u001b[0;34m,\u001b[0m \u001b[0;34m\"rb\"\u001b[0m\u001b[0;34m)\u001b[0m\u001b[0;34m\u001b[0m\u001b[0;34m\u001b[0m\u001b[0m\n\u001b[0m\u001b[1;32m    416\u001b[0m         \u001b[0mown_fid\u001b[0m \u001b[0;34m=\u001b[0m \u001b[0;32mTrue\u001b[0m\u001b[0;34m\u001b[0m\u001b[0;34m\u001b[0m\u001b[0m\n\u001b[1;32m    417\u001b[0m \u001b[0;34m\u001b[0m\u001b[0m\n",
      "\u001b[0;31mFileNotFoundError\u001b[0m: [Errno 2] No such file or directory: '../line_data_4/y_train_length.npy'"
     ]
    }
   ],
   "source": [
    "total_classes = 96\n",
    "\n",
    "line_folder = \"../line_data_4classes\"\n",
    "op_folder = \"./result\"\n",
    "\n",
    "X_train = np.load(\"../line_data\" + \"/x_train.npy\")\n",
    "y_train_length = np.load(line_folder + \"/y_train_length.npy\")\n",
    "y_train_width = np.load(line_folder + \"/y_train_width.npy\")\n",
    "y_train_color = np.load(line_folder + \"/y_train_color.npy\")\n",
    "y_train_angle = np.load(line_folder + \"/y_train_angle.npy\")\n",
    "\n",
    "X_test = np.load(\"../line_data\" + \"/x_test.npy\")\n",
    "y_test_length = np.load(line_folder + \"/y_test_length.npy\")\n",
    "y_test_width = np.load(line_folder + \"/y_test_width.npy\")\n",
    "y_test_color = np.load(line_folder + \"/y_test_color.npy\")\n",
    "y_test_angle = np.load(line_folder + \"/y_test_angle.npy\")\n",
    "\n",
    "# X_train = X_train[:1000]\n",
    "# y_train = y_train[:1000]\n",
    "# X_test = X_test[:1000]\n",
    "# y_test = y_test[:1000]\n",
    "\n",
    "print (X_train.shape, X_test.shape, y_train_angle.shape, y_test_angle.shape)"
   ]
  },
  {
   "cell_type": "code",
   "execution_count": null,
   "metadata": {},
   "outputs": [],
   "source": [
    "X_train = X_train.reshape(57600, 28, 28, 3)\n",
    "X_test = X_test.reshape(38400, 28, 28, 3)\n",
    "print (X_train.shape, X_test.shape, y_train_angle.shape, y_test_angle.shape)"
   ]
  },
  {
   "cell_type": "code",
   "execution_count": null,
   "metadata": {},
   "outputs": [],
   "source": [
    "def getBranch(inp, out_neuron, out_act, name):\n",
    "    x = Dense(512, activation=\"relu\")(inp)\n",
    "    x = Dropout(0.4)(x)\n",
    "    x = BatchNormalization()(x)\n",
    "    x = Dense(out_neuron, activation=out_act, name=name)(x)\n",
    "    return x"
   ]
  },
  {
   "cell_type": "code",
   "execution_count": 183,
   "metadata": {},
   "outputs": [],
   "source": [
    "def getCM(y_test, y_pred):\n",
    "    cm = [[0, 0], [0, 0]]\n",
    "    for i in range(y_test.size):\n",
    "        if(y_test[i] == y_pred[i]):\n",
    "            if(y_test[i] == True):\n",
    "                cm[1][1] += 1\n",
    "            else:\n",
    "                cm[0][0] += 1\n",
    "        else:\n",
    "            if(y_test[i] == True):\n",
    "                cm[0][1] += 1\n",
    "            else:\n",
    "                cm[1][0] += 1\n",
    "    cm = np.array(cm)\n",
    "    return cm"
   ]
  },
  {
   "cell_type": "code",
   "execution_count": 184,
   "metadata": {},
   "outputs": [],
   "source": [
    "inp = Input(shape=(28,28,3))\n",
    "cnn = Conv2D(32, kernel_size=3, strides=1, activation=\"relu\")(inp)\n",
    "cnn = BatchNormalization()(cnn)\n",
    "cnn = MaxPooling2D(pool_size=2, strides=1)(cnn)\n",
    "cnn = Conv2D(8, kernel_size=1, strides=1, activation=\"relu\", input_shape=(28,28,3))(cnn)\n",
    "cnn = BatchNormalization()(cnn)\n",
    "cnn = Dropout(rate=0.4)(cnn)\n",
    "cnn = Flatten()(cnn)"
   ]
  },
  {
   "cell_type": "code",
   "execution_count": 185,
   "metadata": {},
   "outputs": [
    {
     "data": {
      "text/plain": [
       "[(None, 1), (None, 1), (None, 1), (None, 12)]"
      ]
     },
     "execution_count": 185,
     "metadata": {},
     "output_type": "execute_result"
    }
   ],
   "source": [
    "lengthB = getBranch(cnn, 1, \"sigmoid\", \"lengthB\")\n",
    "widthB = getBranch(cnn, 1, \"sigmoid\", \"widthB\")\n",
    "colorB = getBranch(cnn, 1, \"sigmoid\", \"colorB\")\n",
    "angleB = getBranch(cnn, 12, \"softmax\", \"angleB\")\n",
    "model = Model(inputs=inp, outputs=[lengthB, widthB, colorB, angleB])\n",
    "model.output_shape\n",
    "model.summary()"
   ]
  },
  {
   "cell_type": "code",
   "execution_count": 186,
   "metadata": {},
   "outputs": [],
   "source": [
    "model.compile(optimizer=\"adam\",\n",
    "              loss={\"lengthB\": \"binary_crossentropy\", \"widthB\": \"binary_crossentropy\",\n",
    "                    \"colorB\": \"binary_crossentropy\", \"angleB\": \"categorical_crossentropy\"},\n",
    "              metrics=['accuracy'])"
   ]
  },
  {
   "cell_type": "code",
   "execution_count": 187,
   "metadata": {},
   "outputs": [
    {
     "name": "stdout",
     "output_type": "stream",
     "text": [
      "Train on 57600 samples, validate on 38400 samples\n",
      "Epoch 1/10\n",
      "57600/57600 [==============================] - 210s 4ms/step - loss: 1.2130 - lengthB_loss: 0.1103 - widthB_loss: 0.0665 - colorB_loss: 0.0164 - angleB_loss: 1.0198 - lengthB_acc: 0.9603 - widthB_acc: 0.9749 - colorB_acc: 0.9944 - angleB_acc: 0.6353 - val_loss: 2.3065 - val_lengthB_loss: 1.0549 - val_widthB_loss: 0.0214 - val_colorB_loss: 0.0017 - val_angleB_loss: 1.2286 - val_lengthB_acc: 0.6359 - val_widthB_acc: 0.9936 - val_colorB_acc: 0.9995 - val_angleB_acc: 0.5931\n",
      "Epoch 2/10\n",
      "57600/57600 [==============================] - 204s 4ms/step - loss: 0.3219 - lengthB_loss: 0.0222 - widthB_loss: 0.0153 - colorB_loss: 0.0049 - angleB_loss: 0.2795 - lengthB_acc: 0.9952 - widthB_acc: 0.9947 - colorB_acc: 0.9982 - angleB_acc: 0.9007 - val_loss: 0.4023 - val_lengthB_loss: 0.0229 - val_widthB_loss: 0.0035 - val_colorB_loss: 0.0013 - val_angleB_loss: 0.3746 - val_lengthB_acc: 0.9945 - val_widthB_acc: 0.9988 - val_colorB_acc: 0.9997 - val_angleB_acc: 0.8302\n",
      "Epoch 3/10\n",
      "57600/57600 [==============================] - 205s 4ms/step - loss: 0.2229 - lengthB_loss: 0.0171 - widthB_loss: 0.0117 - colorB_loss: 0.0045 - angleB_loss: 0.1896 - lengthB_acc: 0.9968 - widthB_acc: 0.9959 - colorB_acc: 0.9984 - angleB_acc: 0.9316 - val_loss: 0.4325 - val_lengthB_loss: 0.0150 - val_widthB_loss: 0.0041 - val_colorB_loss: 8.6662e-04 - val_angleB_loss: 0.4126 - val_lengthB_acc: 0.9970 - val_widthB_acc: 0.9987 - val_colorB_acc: 0.9997 - val_angleB_acc: 0.8184\n",
      "Epoch 4/10\n",
      "57600/57600 [==============================] - 205s 4ms/step - loss: 0.1860 - lengthB_loss: 0.0169 - widthB_loss: 0.0108 - colorB_loss: 0.0037 - angleB_loss: 0.1547 - lengthB_acc: 0.9965 - widthB_acc: 0.9965 - colorB_acc: 0.9988 - angleB_acc: 0.9430 - val_loss: 0.1703 - val_lengthB_loss: 0.0336 - val_widthB_loss: 0.0031 - val_colorB_loss: 0.0011 - val_angleB_loss: 0.1325 - val_lengthB_acc: 0.9911 - val_widthB_acc: 0.9989 - val_colorB_acc: 0.9996 - val_angleB_acc: 0.9466\n",
      "Epoch 5/10\n",
      "57600/57600 [==============================] - 204s 4ms/step - loss: 0.1569 - lengthB_loss: 0.0155 - widthB_loss: 0.0084 - colorB_loss: 0.0035 - angleB_loss: 0.1296 - lengthB_acc: 0.9968 - widthB_acc: 0.9971 - colorB_acc: 0.9989 - angleB_acc: 0.9528 - val_loss: 0.3426 - val_lengthB_loss: 0.0389 - val_widthB_loss: 0.0094 - val_colorB_loss: 0.0012 - val_angleB_loss: 0.2932 - val_lengthB_acc: 0.9878 - val_widthB_acc: 0.9973 - val_colorB_acc: 0.9997 - val_angleB_acc: 0.8837\n",
      "Epoch 6/10\n",
      "57600/57600 [==============================] - 205s 4ms/step - loss: 0.1369 - lengthB_loss: 0.0146 - widthB_loss: 0.0085 - colorB_loss: 0.0041 - angleB_loss: 0.1097 - lengthB_acc: 0.9976 - widthB_acc: 0.9971 - colorB_acc: 0.9986 - angleB_acc: 0.9603 - val_loss: 0.0818 - val_lengthB_loss: 0.0056 - val_widthB_loss: 0.0034 - val_colorB_loss: 0.0015 - val_angleB_loss: 0.0713 - val_lengthB_acc: 0.9995 - val_widthB_acc: 0.9988 - val_colorB_acc: 0.9997 - val_angleB_acc: 0.9805\n",
      "Epoch 7/10\n",
      "57600/57600 [==============================] - 206s 4ms/step - loss: 0.1292 - lengthB_loss: 0.0133 - widthB_loss: 0.0076 - colorB_loss: 0.0033 - angleB_loss: 0.1050 - lengthB_acc: 0.9976 - widthB_acc: 0.9972 - colorB_acc: 0.9988 - angleB_acc: 0.9620 - val_loss: 0.0762 - val_lengthB_loss: 0.0058 - val_widthB_loss: 0.0029 - val_colorB_loss: 0.0013 - val_angleB_loss: 0.0661 - val_lengthB_acc: 0.9995 - val_widthB_acc: 0.9988 - val_colorB_acc: 0.9996 - val_angleB_acc: 0.9785\n",
      "Epoch 8/10\n",
      "57600/57600 [==============================] - 209s 4ms/step - loss: 0.1113 - lengthB_loss: 0.0127 - widthB_loss: 0.0071 - colorB_loss: 0.0030 - angleB_loss: 0.0884 - lengthB_acc: 0.9980 - widthB_acc: 0.9973 - colorB_acc: 0.9989 - angleB_acc: 0.9686 - val_loss: 0.0487 - val_lengthB_loss: 0.0051 - val_widthB_loss: 0.0027 - val_colorB_loss: 5.4170e-04 - val_angleB_loss: 0.0404 - val_lengthB_acc: 0.9996 - val_widthB_acc: 0.9990 - val_colorB_acc: 0.9997 - val_angleB_acc: 0.9884\n",
      "Epoch 9/10\n",
      "57600/57600 [==============================] - 207s 4ms/step - loss: 0.1053 - lengthB_loss: 0.0118 - widthB_loss: 0.0061 - colorB_loss: 0.0037 - angleB_loss: 0.0837 - lengthB_acc: 0.9983 - widthB_acc: 0.9977 - colorB_acc: 0.9988 - angleB_acc: 0.9698 - val_loss: 0.0512 - val_lengthB_loss: 0.0062 - val_widthB_loss: 0.0025 - val_colorB_loss: 0.0021 - val_angleB_loss: 0.0404 - val_lengthB_acc: 0.9995 - val_widthB_acc: 0.9992 - val_colorB_acc: 0.9994 - val_angleB_acc: 0.9858\n",
      "Epoch 10/10\n",
      "57600/57600 [==============================] - 208s 4ms/step - loss: 0.1046 - lengthB_loss: 0.0126 - widthB_loss: 0.0067 - colorB_loss: 0.0027 - angleB_loss: 0.0825 - lengthB_acc: 0.9980 - widthB_acc: 0.9974 - colorB_acc: 0.9990 - angleB_acc: 0.9697 - val_loss: 0.0504 - val_lengthB_loss: 0.0064 - val_widthB_loss: 0.0031 - val_colorB_loss: 5.1978e-04 - val_angleB_loss: 0.0404 - val_lengthB_acc: 0.9996 - val_widthB_acc: 0.9991 - val_colorB_acc: 0.9997 - val_angleB_acc: 0.9869\n"
     ]
    }
   ],
   "source": [
    "history = model.fit(X_train, [y_train_length, y_train_width, y_train_color, y_train_angle],\n",
    "                    validation_data=(X_test, [y_test_length, y_test_width, y_test_color, y_test_angle]),\n",
    "                    epochs=10, batch_size=100)"
   ]
  },
  {
   "cell_type": "code",
   "execution_count": 188,
   "metadata": {},
   "outputs": [
    {
     "name": "stdout",
     "output_type": "stream",
     "text": [
      "['loss', 'val_widthB_acc', 'val_lengthB_acc', 'val_angleB_acc', 'val_colorB_loss', 'val_loss', 'val_colorB_acc', 'val_widthB_loss', 'val_lengthB_loss', 'widthB_acc', 'lengthB_acc', 'val_angleB_loss', 'angleB_loss', 'colorB_acc', 'widthB_loss', 'lengthB_loss', 'angleB_acc', 'colorB_loss']\n"
     ]
    },
    {
     "data": {
      "image/png": "[encoded data removed]",
      "text/plain": [
       "<Figure size 432x288 with 1 Axes>"
      ]
     },
     "metadata": {
      "needs_background": "light"
     },
     "output_type": "display_data"
    },
    {
     "data": {
      "image/png": "[encoded data removed]",
      "text/plain": [
       "<Figure size 432x288 with 1 Axes>"
      ]
     },
     "metadata": {
      "needs_background": "light"
     },
     "output_type": "display_data"
    },
    {
     "data": {
      "image/png": "[encoded data removed]",
      "text/plain": [
       "<Figure size 432x288 with 1 Axes>"
      ]
     },
     "metadata": {
      "needs_background": "light"
     },
     "output_type": "display_data"
    }
   ],
   "source": [
    "if not os.path.exists(op_folder):\n",
    "    os.makedirs(op_folder)\n",
    "    \n",
    "print history.history.keys()\n",
    "\n",
    "# Plot training accuracy values\n",
    "plt.plot(history.history['widthB_acc'])\n",
    "plt.plot(history.history['lengthB_acc'])\n",
    "plt.plot(history.history['angleB_acc'])\n",
    "plt.plot(history.history['colorB_acc'])\n",
    "\n",
    "plt.title('Training Accuracy')\n",
    "plt.ylabel('Accuracy')\n",
    "plt.xlabel('Epoch')\n",
    "plt.legend(['TrainWidth', 'TrainLength', 'TrainAngle', 'TrainColor'], loc='lower right')\n",
    "plt.savefig(op_folder + \"/train_acc.png\", bbox_inches='tight')\n",
    "plt.show()\n",
    "\n",
    "# Plot validating accuracy values\n",
    "plt.plot(history.history['val_widthB_acc'])\n",
    "plt.plot(history.history['val_lengthB_acc'])\n",
    "plt.plot(history.history['val_angleB_acc'])\n",
    "plt.plot(history.history['val_colorB_acc'])\n",
    "\n",
    "plt.title('Testing Accuracy')\n",
    "plt.ylabel('Accuracy')\n",
    "plt.xlabel('Epoch')\n",
    "plt.legend(['TestWidth', 'TestLength', 'TestAngle', 'TestColor'], loc='lower right')\n",
    "plt.savefig(op_folder + \"/test_acc.png\", bbox_inches='tight')\n",
    "plt.show()\n",
    "\n",
    "# # Plot training & validation loss values\n",
    "\n",
    "plt.plot(history.history['loss'])\n",
    "plt.plot(history.history['val_loss'])\n",
    "plt.title('Model loss')\n",
    "plt.ylabel('Loss')\n",
    "plt.xlabel('Epoch')\n",
    "plt.legend(['Train', 'Test'], loc='upper right')\n",
    "plt.savefig(op_folder + \"/loss.png\", bbox_inches='tight')\n",
    "plt.show()"
   ]
  },
  {
   "cell_type": "code",
   "execution_count": 189,
   "metadata": {},
   "outputs": [],
   "source": [
    "# Final evaluation of the model\n",
    "y_pred_length, y_pred_width, y_pred_color, y_pred_angle = model.predict(X_test)\n"
   ]
  },
  {
   "cell_type": "code",
   "execution_count": 190,
   "metadata": {},
   "outputs": [
    {
     "name": "stdout",
     "output_type": "stream",
     "text": [
      "[[3044  143    0    0    0    0    0    0    0    0    0   13]\n",
      " [   0 3197    3    0    0    0    0    0    0    0    0    0]\n",
      " [   0   60 3140    0    0    0    0    0    0    0    0    0]\n",
      " [   0    0   33 3167    0    0    0    0    0    0    0    0]\n",
      " [   0    0    0    4 3189    7    0    0    0    0    0    0]\n",
      " [   0    0    1    0    7 3191    1    0    0    0    0    0]\n",
      " [  11    0    0    0    0   58 3131    0    0    0    0    0]\n",
      " [   0    0    0    0    0    3    4 3188    3    0    2    0]\n",
      " [   0    0    0    0    0    0    0   18 3176    6    0    0]\n",
      " [   0    0    0    0    0    0    0    0    9 3127   64    0]\n",
      " [   0    0    0    0    0    0    0    0    0    0 3193    7]\n",
      " [   0   25    0    0    0    0    0    0    0    0   22 3153]]\n",
      "Accuracy: Len, Wid, Color, Angle\n",
      "1.0 1.0 1.0 0.986875\n",
      "1.0 1.0 1.0 0.986919641816986\n"
     ]
    }
   ],
   "source": [
    "y_pred_length = y_pred_length > 0.5\n",
    "y_test_length = y_test_length > 0.5\n",
    "\n",
    "y_pred_width = y_pred_width > 0.5\n",
    "y_test_width = y_test_width > 0.5\n",
    "\n",
    "y_pred_color = y_pred_color > 0.5\n",
    "y_test_color = y_test_color > 0.5\n",
    "\n",
    "y_test_length = y_test_length.reshape(y_pred_length.shape)\n",
    "y_test_width = y_test_length.reshape(y_pred_width.shape)\n",
    "y_test_color = y_test_length.reshape(y_pred_color.shape)\n",
    "\n",
    "cm_length = getCM(y_test_length, y_pred_length)\n",
    "cm_width = getCM(y_test_width, y_pred_width)\n",
    "cm_color = getCM(y_test_color, y_pred_color)\n",
    "cm_angle = confusion_matrix(y_test_angle.argmax(axis=1), y_pred_angle.argmax(axis=1))\n",
    "# print cm_length\n",
    "# print cm_width\n",
    "# print cm_color\n",
    "print cm_angle\n",
    "\n",
    "# print y_pred_length.argmax(axis=1), y_test_length\n",
    "# fscore = f1_score(y_test.argmax(axis=1), y_pred.argmax(axis=1), average='macro')\n",
    "# precision = precision_score(y_test.argmax(axis=1), y_pred.argmax(axis=1), average='macro')\n",
    "# recall = recall_score(y_test.argmax(axis=1), y_pred.argmax(axis=1), average='macro')\n",
    "acc_len = accuracy_score(y_test_length.argmax(axis=1), y_pred_length.argmax(axis=1))\n",
    "acc_wid = accuracy_score(y_test_width.argmax(axis=1), y_pred_width.argmax(axis=1))\n",
    "acc_color = accuracy_score(y_test_color.argmax(axis=1), y_pred_color.argmax(axis=1))\n",
    "acc_angle = accuracy_score(y_test_angle.argmax(axis=1), y_pred_angle.argmax(axis=1))\n",
    "\n",
    "fs_len = f1_score(y_test_length.argmax(axis=1), y_pred_length.argmax(axis=1), average='macro')\n",
    "fs_wid = f1_score(y_test_width.argmax(axis=1), y_pred_width.argmax(axis=1), average='macro')\n",
    "fs_color = f1_score(y_test_color.argmax(axis=1), y_pred_color.argmax(axis=1), average='macro')\n",
    "fs_angle = f1_score(y_test_angle.argmax(axis=1), y_pred_angle.argmax(axis=1), average='macro')\n",
    "\n",
    "print \"Accuracy: Len, Wid, Color, Angle\"\n",
    "print acc_len, acc_wid, acc_color, acc_angle\n",
    "print fs_len, fs_wid, fs_color, fs_angle\n",
    "\n",
    "np.savetxt(op_folder + \"/cm_angle.txt\", cm_angle, fmt=\"%d\")\n",
    "with open(op_folder + \"/scores.txt\", 'w') as the_file:\n",
    "    the_file.write(\"Accuracy:\\nLen \" + str(acc_len) + \n",
    "                  \"\\nWid \" + str(acc_wid) + \n",
    "                  \"\\nColor \" + str(acc_color) +\n",
    "                  \"\\nAngle \" + str(acc_angle) + \n",
    "                  \"\\nFScore:\\nLen \" + str(fs_len) + \n",
    "                  \"\\nWid: \" + str(fs_wid) + \n",
    "                  \"\\nColor: \" + str(fs_color) +\n",
    "                  \"\\nAngle: \" + str(fs_angle))"
   ]
  }
 ],
 "metadata": {
  "kernelspec": {
   "display_name": "Python 3",
   "language": "python",
   "name": "python3"
  },
  "language_info": {
   "codemirror_mode": {
    "name": "ipython",
    "version": 2
   },
   "file_extension": ".py",
   "mimetype": "text/x-python",
   "name": "python",
   "nbconvert_exporter": "python",
   "pygments_lexer": "ipython2",
   "version": "2.7.12"
  }
 },
 "nbformat": 4,
 "nbformat_minor": 2
}
