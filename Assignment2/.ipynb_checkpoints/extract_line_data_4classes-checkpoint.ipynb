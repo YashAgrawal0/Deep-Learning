{
 "cells": [
  {
   "cell_type": "code",
   "execution_count": 5,
   "metadata": {},
   "outputs": [],
   "source": [
    "import numpy as np\n",
    "import os\n",
    "import cv2"
   ]
  },
  {
   "cell_type": "code",
   "execution_count": 7,
   "metadata": {},
   "outputs": [],
   "source": [
    "total_classes = 96 # 96 = 2 * 12 * 2 * 2\n",
    "img_folder = \"../Assingment1/Task1_Images/img\"\n",
    "output_folder = \"./line_data_4classes\"\n",
    "img_in_each_class = 1000\n",
    "training_samples = (img_in_each_class * 60) / 100"
   ]
  },
  {
   "cell_type": "code",
   "execution_count": 8,
   "metadata": {},
   "outputs": [],
   "source": [
    "# Get class label, label => [0, total_classes - 1] 0 indexed\n",
    "def getClassLabel(notation):\n",
    "    l, m, n, k = (int(x) for x in notation.split(\"_\"))\n",
    "    label = l * (2 * 12 * 2) + m * (12 * 2) + n * (2) + k\n",
    "    return int(label)"
   ]
  },
  {
   "cell_type": "code",
   "execution_count": 9,
   "metadata": {},
   "outputs": [],
   "source": [
    "# Reading the input classes\n",
    "def getInputClasses():\n",
    "    classes_folders = os.listdir(img_folder)\n",
    "    arr = []\n",
    "    for c in classes_folders:\n",
    "        label = getClassLabel(c)\n",
    "        arr.append([label, c])\n",
    "    arr = np.array(arr)\n",
    "    print (arr)\n",
    "    return arr"
   ]
  },
  {
   "cell_type": "code",
   "execution_count": 22,
   "metadata": {},
   "outputs": [],
   "source": [
    "def getDataUtil(lower, upper, input_classes):\n",
    "    y_length, y_width, y_color, y_angle = [], [], [], []\n",
    "    for i in range(total_classes):\n",
    "        print i,\n",
    "        label, class_folder = int(input_classes[i][0]), input_classes[i][1]\n",
    "        l, w, a, c = (int(x) for x in class_folder.split(\"_\"))\n",
    "        for j in range(lower, upper):\n",
    "            img = cv2.imread(img_folder + \"/\" + str(class_folder) + \"/\" + str(class_folder) + \"_\" + str(j) + \".jpg\")\n",
    "            y_length.append(l)\n",
    "            y_width.append(w)\n",
    "            y_color.append(c)\n",
    "            y_angle.append([0] * 12)\n",
    "            y_angle[i * (upper - lower) + j - lower][a] = 1\n",
    "    y_length = np.array(y_length)\n",
    "    y_width = np.array(y_width)\n",
    "    y_color = np.array(y_color)\n",
    "    y_angle = np.array(y_angle)\n",
    "    print (\"length: \", y_length.shape, \" angle: \", y_angle.shape)\n",
    "    return y_length, y_width, y_color, y_angle"
   ]
  },
  {
   "cell_type": "code",
   "execution_count": 24,
   "metadata": {},
   "outputs": [],
   "source": [
    "def getTrainingData(training_samples, input_classes):\n",
    "    return getDataUtil(0, int(training_samples), input_classes)"
   ]
  },
  {
   "cell_type": "code",
   "execution_count": 25,
   "metadata": {},
   "outputs": [],
   "source": [
    "def getTestingData(training_samples, input_classes):\n",
    "    return getDataUtil(int(training_samples), int(img_in_each_class), input_classes)"
   ]
  },
  {
   "cell_type": "code",
   "execution_count": 26,
   "metadata": {},
   "outputs": [
    {
     "name": "stdout",
     "output_type": "stream",
     "text": [
      "[['16' '0_0_8_0']\n",
      " ['37' '0_1_6_1']\n",
      " ['58' '1_0_5_0']\n",
      " ['0' '0_0_0_0']\n",
      " ['1' '0_0_0_1']\n",
      " ['20' '0_0_10_0']\n",
      " ['21' '0_0_10_1']\n",
      " ['22' '0_0_11_0']\n",
      " ['23' '0_0_11_1']\n",
      " ['2' '0_0_1_0']\n",
      " ['3' '0_0_1_1']\n",
      " ['4' '0_0_2_0']\n",
      " ['5' '0_0_2_1']\n",
      " ['6' '0_0_3_0']\n",
      " ['7' '0_0_3_1']\n",
      " ['8' '0_0_4_0']\n",
      " ['9' '0_0_4_1']\n",
      " ['10' '0_0_5_0']\n",
      " ['11' '0_0_5_1']\n",
      " ['12' '0_0_6_0']\n",
      " ['13' '0_0_6_1']\n",
      " ['14' '0_0_7_0']\n",
      " ['15' '0_0_7_1']\n",
      " ['17' '0_0_8_1']\n",
      " ['18' '0_0_9_0']\n",
      " ['19' '0_0_9_1']\n",
      " ['24' '0_1_0_0']\n",
      " ['25' '0_1_0_1']\n",
      " ['44' '0_1_10_0']\n",
      " ['45' '0_1_10_1']\n",
      " ['46' '0_1_11_0']\n",
      " ['47' '0_1_11_1']\n",
      " ['26' '0_1_1_0']\n",
      " ['27' '0_1_1_1']\n",
      " ['28' '0_1_2_0']\n",
      " ['29' '0_1_2_1']\n",
      " ['30' '0_1_3_0']\n",
      " ['31' '0_1_3_1']\n",
      " ['32' '0_1_4_0']\n",
      " ['33' '0_1_4_1']\n",
      " ['34' '0_1_5_0']\n",
      " ['35' '0_1_5_1']\n",
      " ['36' '0_1_6_0']\n",
      " ['38' '0_1_7_0']\n",
      " ['39' '0_1_7_1']\n",
      " ['40' '0_1_8_0']\n",
      " ['41' '0_1_8_1']\n",
      " ['42' '0_1_9_0']\n",
      " ['43' '0_1_9_1']\n",
      " ['48' '1_0_0_0']\n",
      " ['49' '1_0_0_1']\n",
      " ['68' '1_0_10_0']\n",
      " ['69' '1_0_10_1']\n",
      " ['70' '1_0_11_0']\n",
      " ['71' '1_0_11_1']\n",
      " ['50' '1_0_1_0']\n",
      " ['51' '1_0_1_1']\n",
      " ['52' '1_0_2_0']\n",
      " ['53' '1_0_2_1']\n",
      " ['54' '1_0_3_0']\n",
      " ['55' '1_0_3_1']\n",
      " ['56' '1_0_4_0']\n",
      " ['57' '1_0_4_1']\n",
      " ['59' '1_0_5_1']\n",
      " ['60' '1_0_6_0']\n",
      " ['61' '1_0_6_1']\n",
      " ['62' '1_0_7_0']\n",
      " ['63' '1_0_7_1']\n",
      " ['64' '1_0_8_0']\n",
      " ['65' '1_0_8_1']\n",
      " ['66' '1_0_9_0']\n",
      " ['67' '1_0_9_1']\n",
      " ['72' '1_1_0_0']\n",
      " ['73' '1_1_0_1']\n",
      " ['92' '1_1_10_0']\n",
      " ['93' '1_1_10_1']\n",
      " ['94' '1_1_11_0']\n",
      " ['95' '1_1_11_1']\n",
      " ['74' '1_1_1_0']\n",
      " ['75' '1_1_1_1']\n",
      " ['76' '1_1_2_0']\n",
      " ['77' '1_1_2_1']\n",
      " ['78' '1_1_3_0']\n",
      " ['79' '1_1_3_1']\n",
      " ['80' '1_1_4_0']\n",
      " ['81' '1_1_4_1']\n",
      " ['82' '1_1_5_0']\n",
      " ['83' '1_1_5_1']\n",
      " ['84' '1_1_6_0']\n",
      " ['85' '1_1_6_1']\n",
      " ['86' '1_1_7_0']\n",
      " ['87' '1_1_7_1']\n",
      " ['88' '1_1_8_0']\n",
      " ['89' '1_1_8_1']\n",
      " ['90' '1_1_9_0']\n",
      " ['91' '1_1_9_1']]\n",
      "('length: ', (960,), ' angle: ', (960, 12))\n",
      "('length: ', (480,), ' angle: ', (480, 12))\n"
     ]
    }
   ],
   "source": [
    "input_classes = getInputClasses()\n",
    "y_train_length, y_train_width, y_train_color, y_train_angle = getTrainingData(training_samples, input_classes)\n",
    "y_test_length, y_test_width, y_test_color, y_test_angle = getTestingData(training_samples, input_classes)\n"
   ]
  },
  {
   "cell_type": "code",
   "execution_count": 52,
   "metadata": {},
   "outputs": [],
   "source": [
    "if not os.path.exists(output_folder):\n",
    "    os.makedirs(output_folder)\n",
    "\n",
    "np.save(output_folder + \"/y_train_length.npy\", y_train_length)\n",
    "np.save(output_folder + \"/y_train_width.npy\", y_train_width)\n",
    "np.save(output_folder + \"/y_train_color.npy\", y_train_color)\n",
    "np.save(output_folder + \"/y_train_angle.npy\", y_train_angle)\n",
    "\n",
    "np.save(output_folder + \"/y_test_length.npy\", y_test_length)\n",
    "np.save(output_folder + \"/y_test_width.npy\", y_test_width)\n",
    "np.save(output_folder + \"/y_test_color.npy\", y_test_color)\n",
    "np.save(output_folder + \"/y_test_angle.npy\", y_test_angle)\n"
   ]
  }
 ],
 "metadata": {
  "kernelspec": {
   "display_name": "Python 3",
   "language": "python",
   "name": "python3"
  },
  "language_info": {
   "codemirror_mode": {
    "name": "ipython",
    "version": 2
   },
   "file_extension": ".py",
   "mimetype": "text/x-python",
   "name": "python",
   "nbconvert_exporter": "python",
   "pygments_lexer": "ipython2",
   "version": "2.7.12"
  }
 },
 "nbformat": 4,
 "nbformat_minor": 2
}
