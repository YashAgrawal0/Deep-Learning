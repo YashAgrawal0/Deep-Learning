{
 "cells": [
  {
   "cell_type": "code",
<<<<<<< HEAD
   "execution_count": 2,
   "metadata": {},
   "outputs": [
    {
     "ename": "ModuleNotFoundError",
     "evalue": "No module named 'cv2'",
     "output_type": "error",
     "traceback": [
      "\u001b[0;31m---------------------------------------------------------------------------\u001b[0m",
      "\u001b[0;31mModuleNotFoundError\u001b[0m                       Traceback (most recent call last)",
      "\u001b[0;32m<ipython-input-2-97becdfbd68e>\u001b[0m in \u001b[0;36m<module>\u001b[0;34m\u001b[0m\n\u001b[1;32m      4\u001b[0m \u001b[0;32mimport\u001b[0m \u001b[0mos\u001b[0m\u001b[0;34m\u001b[0m\u001b[0;34m\u001b[0m\u001b[0m\n\u001b[1;32m      5\u001b[0m \u001b[0;32mimport\u001b[0m \u001b[0mnumpy\u001b[0m \u001b[0;32mas\u001b[0m \u001b[0mnp\u001b[0m\u001b[0;34m\u001b[0m\u001b[0;34m\u001b[0m\u001b[0m\n\u001b[0;32m----> 6\u001b[0;31m \u001b[0;32mimport\u001b[0m \u001b[0mcv2\u001b[0m\u001b[0;34m\u001b[0m\u001b[0;34m\u001b[0m\u001b[0m\n\u001b[0m\u001b[1;32m      7\u001b[0m \u001b[0;32mimport\u001b[0m \u001b[0mtensorflow\u001b[0m \u001b[0;32mas\u001b[0m \u001b[0mtf\u001b[0m\u001b[0;34m\u001b[0m\u001b[0;34m\u001b[0m\u001b[0m\n",
      "\u001b[0;31mModuleNotFoundError\u001b[0m: No module named 'cv2'"
     ]
    }
   ],
=======
   "execution_count": 1,
   "metadata": {},
   "outputs": [],
>>>>>>> 1664dd8f3bb6dab673ae92996aee7cf56284b9f7
   "source": [
    "from PIL import Image, ImageDraw\n",
    "import math\n",
    "import random\n",
    "import os\n",
    "import numpy as np\n",
<<<<<<< HEAD
    "import cv2\n",
    "import tensorflow as tf"
=======
    "import cv2"
>>>>>>> 1664dd8f3bb6dab673ae92996aee7cf56284b9f7
   ]
  },
  {
   "cell_type": "code",
<<<<<<< HEAD
   "execution_count": null,
   "metadata": {
    "collapsed": true
   },
   "outputs": [],
   "source": []
  },
  {
   "cell_type": "code",
   "execution_count": null,
   "metadata": {},
   "outputs": [],
   "source": [
    "from mnist import MNIST\n",
    "data = MNIST(data_dir=\"data/MNIST/\")"
=======
   "execution_count": 2,
   "metadata": {},
   "outputs": [],
   "source": [
    "def drawImage(length, width, angle, color, X_pixel, Y_pixel):\n",
    "    im = Image.new('RGB', (X_pixel, Y_pixel), 'black') \n",
    "    draw = ImageDraw.Draw(im)\n",
    "    x_centre, y_centre = X_pixel / 2, Y_pixel / 2\n",
    "\n",
    "    angle *= (math.pi / 180.0)\n",
    "    x1 = x_centre - (length / 2) * math.cos(angle)\n",
    "    y1 = y_centre + (length / 2) * math.sin(angle)\n",
    "    x2 = x_centre + (length / 2) * math.cos(angle)\n",
    "    y2 = y_centre - (length / 2) * math.sin(angle)\n",
    "\n",
    "    x_translation = min(x1, X_pixel - x1)\n",
    "    x_translation = min(x_translation, min(x2, X_pixel - x2))\n",
    "\n",
    "    y_translation = min(y1, Y_pixel - y1)\n",
    "    y_translation = min(y_translation, min(y2, Y_pixel - y2))\n",
    "\n",
    "    x_translation *= random.randint(-100, 101) / 100.0\n",
    "    y_translation *= random.randint(-100, 101) / 100.0\n",
    "\n",
    "    x1 += x_translation\n",
    "    y1 += y_translation\n",
    "    x2 += x_translation\n",
    "    y2 += y_translation\n",
    "\n",
    "    draw.line((x1, y1, x2, y2), fill=color, width=width)\n",
    "    return im"
   ]
  },
  {
   "cell_type": "code",
   "execution_count": 3,
   "metadata": {},
   "outputs": [],
   "source": [
    "for i in range(0, 2):\n",
    "    for j in range(0, 2):\n",
    "        for k in range(0, 12):\n",
    "            for l in range(0, 2):\n",
    "                for m in range (0, 1000):\n",
    "                    length = 7 if i == 0 else 15\n",
    "                    width = 1 if j == 0 else 3\n",
    "                    angle = k * 15\n",
    "                    color = \"blue\" if l == 1 else \"red\"\n",
    "                    img = drawImage(length, width, angle, color, 28, 28)\n",
    "                    img = img.resize((28,28),Image.ANTIALIAS)\n",
    "                    class_name = str(i) + \"_\" + str(j) + \"_\" + str(k) + \"_\" + str(l)\n",
    "                    folder = \"./img/\" + class_name\n",
    "                    if not os.path.exists(folder):\n",
    "                        os.makedirs(folder)\n",
    "                    img.save(folder + \"/\" + class_name + \"_\" + str(m) + \".jpg\", quality=1000)\n",
    "    #                 img.show()"
   ]
  },
  {
   "cell_type": "code",
   "execution_count": 123,
   "metadata": {},
   "outputs": [],
   "source": [
    "#Create frames and make video\n",
    "\n",
    "def createFramesAndVideo(inpPath,outputPath,fps):\n",
    "    frame_array = []\n",
    "    for j in range(10):\n",
    "        for i in range(9):\n",
    "            img = cv2.imread(inpPath+'/0_0_0_0_'+str(random.randint(0,1000))+'.jpg')\n",
    "            height, width, layers = img.shape\n",
    "            size = (width,height)\n",
    "            frame_array.append(img)\n",
    "    out = cv2.VideoWriter(outputPath,cv2.VideoWriter_fourcc('M','J','P','G'), fps, size)\n",
    "\n",
    "    \n",
    "    for i in range(len(frame_array)):\n",
    "        # writing to a image array\n",
    "        out.write(frame_array[i])\n",
    "    out.release()"
   ]
  },
  {
   "cell_type": "code",
   "execution_count": 124,
   "metadata": {},
   "outputs": [],
   "source": [
    "# createFramesAndVideo('./img/0_0_0_0','video3.avi',2)"
   ]
  },
  {
   "cell_type": "code",
   "execution_count": 125,
   "metadata": {},
   "outputs": [],
   "source": [
    "def createFrame(variation):\n",
    "    images = []\n",
    "    for j in range(3):\n",
    "        imgs = []\n",
    "        for i in range(3):\n",
    "            img = cv2.imread('./img/'+variation+'/'+variation+'_'+str(random.randint(0,999))+'.jpg')\n",
    "            imgs.append(img)\n",
    "        images.append(np.concatenate(imgs,axis=1))\n",
    "    vis = np.concatenate(images, axis=0)\n",
    "    return vis"
   ]
  },
  {
   "cell_type": "code",
   "execution_count": 126,
   "metadata": {},
   "outputs": [],
   "source": [
    "def createAllFrames(variation,noOfFrames):\n",
    "    frame_array = []\n",
    "    \n",
    "    for i in range(noOfFrames):\n",
    "        val = createFrame(variation)\n",
    "        height,width,layers = val.shape\n",
    "        size = (width,height)\n",
    "        frame_array.append(val)\n",
    "        \n",
    "    frame_array = np.array(frame_array)\n",
    "    return frame_array,size"
   ]
  },
  {
   "cell_type": "code",
   "execution_count": 127,
   "metadata": {},
   "outputs": [],
   "source": [
    "def createVideoFromFrames(frames,fps,size,output):\n",
    "    \n",
    "    out = cv2.VideoWriter(output,cv2.VideoWriter_fourcc('M','J','P','G'), fps, size)\n",
    "\n",
    "    for i in range(len(frames)):\n",
    "        # writing to a image array\n",
    "        out.write(frames[i])\n",
    "    out.release()\n",
    "    "
>>>>>>> 1664dd8f3bb6dab673ae92996aee7cf56284b9f7
   ]
  },
  {
   "cell_type": "code",
<<<<<<< HEAD
   "execution_count": 8,
=======
   "execution_count": 133,
>>>>>>> 1664dd8f3bb6dab673ae92996aee7cf56284b9f7
   "metadata": {},
   "outputs": [
    {
     "name": "stdout",
     "output_type": "stream",
     "text": [
<<<<<<< HEAD
      "Tensor(\"Const_3:0\", shape=(), dtype=float32) Tensor(\"Const_4:0\", shape=(), dtype=float32)\n"
=======
      "(10, 84, 84, 3)\n"
>>>>>>> 1664dd8f3bb6dab673ae92996aee7cf56284b9f7
     ]
    }
   ],
   "source": [
<<<<<<< HEAD
    "a = tf.constant(2.0,tf.float32)\n",
    "b = tf.constant(3.0)\n",
    "print(a,b)"
=======
    "frames,size = createAllFrames('0_1_2_0',10)\n",
    "createVideoFromFrames(frames,2,size,'test.avi')\n",
    "\n",
    "print(frames.shape)"
>>>>>>> 1664dd8f3bb6dab673ae92996aee7cf56284b9f7
   ]
  },
  {
   "cell_type": "code",
<<<<<<< HEAD
   "execution_count": 9,
   "metadata": {},
   "outputs": [],
   "source": [
    " "
=======
   "execution_count": 129,
   "metadata": {},
   "outputs": [],
   "source": [
    "# createVideoFromFrames(frames,2,size)"
   ]
  },
  {
   "cell_type": "code",
   "execution_count": 130,
   "metadata": {},
   "outputs": [],
   "source": [
    "def createVideoForAllClasses(fps, noOfFrames, outputDir):\n",
    "    for i in range(2):\n",
    "        for j in range(2):\n",
    "            for k in range(12):\n",
    "                for l in range(2):\n",
    "                    variation = str(i)+'_'+str(j)+'_'+str(k)+'_'+str(l)\n",
    "                    frames,size = createAllFrames(variation,noOfFrames)\n",
    "                    createVideoFromFrames(frames,fps,size,outputDir+'/'+variation+'.avi')\n",
    "                    "
   ]
  },
  {
   "cell_type": "code",
   "execution_count": 131,
   "metadata": {},
   "outputs": [],
   "source": [
    "createVideoForAllClasses(2, 10, 'video')"
>>>>>>> 1664dd8f3bb6dab673ae92996aee7cf56284b9f7
   ]
  },
  {
   "cell_type": "code",
   "execution_count": null,
   "metadata": {},
   "outputs": [],
   "source": []
  }
 ],
 "metadata": {
  "celltoolbar": "Raw Cell Format",
  "kernelspec": {
<<<<<<< HEAD
   "display_name": "Python 3",
   "language": "python",
   "name": "python3"
=======
   "display_name": "Python 2",
   "language": "python",
   "name": "python2"
  },
  "language_info": {
   "codemirror_mode": {
    "name": "ipython",
    "version": 2
   },
   "file_extension": ".py",
   "mimetype": "text/x-python",
   "name": "python",
   "nbconvert_exporter": "python",
   "pygments_lexer": "ipython2",
   "version": "2.7.12"
>>>>>>> 1664dd8f3bb6dab673ae92996aee7cf56284b9f7
  }
 },
 "nbformat": 4,
 "nbformat_minor": 2
}
