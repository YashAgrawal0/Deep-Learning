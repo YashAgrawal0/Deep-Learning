{
 "cells": [
  {
   "cell_type": "code",
   "execution_count": 1,
   "metadata": {},
   "outputs": [],
   "source": [
    "from PIL import Image, ImageDraw\n",
    "import math\n",
    "import random\n",
    "import os\n",
    "import numpy as np\n",
    "import cv2"
   ]
  },
  {
   "cell_type": "code",
   "execution_count": 2,
   "metadata": {},
   "outputs": [],
   "source": [
    "def drawImage(length, width, angle, color, X_pixel, Y_pixel):\n",
    "    im = Image.new('RGB', (X_pixel, Y_pixel), 'black') \n",
    "    draw = ImageDraw.Draw(im)\n",
    "    x_centre, y_centre = X_pixel / 2, Y_pixel / 2\n",
    "\n",
    "    angle *= (math.pi / 180.0)\n",
    "    x1 = x_centre - (length / 2) * math.cos(angle)\n",
    "    y1 = y_centre + (length / 2) * math.sin(angle)\n",
    "    x2 = x_centre + (length / 2) * math.cos(angle)\n",
    "    y2 = y_centre - (length / 2) * math.sin(angle)\n",
    "\n",
    "    x_translation = min(x1, X_pixel - x1)\n",
    "    x_translation = min(x_translation, min(x2, X_pixel - x2))\n",
    "\n",
    "    y_translation = min(y1, Y_pixel - y1)\n",
    "    y_translation = min(y_translation, min(y2, Y_pixel - y2))\n",
    "\n",
    "    x_translation *= random.randint(-100, 101) / 100.0\n",
    "    y_translation *= random.randint(-100, 101) / 100.0\n",
    "\n",
    "    x1 += x_translation\n",
    "    y1 += y_translation\n",
    "    x2 += x_translation\n",
    "    y2 += y_translation\n",
    "\n",
    "    draw.line((x1, y1, x2, y2), fill=color, width=width)\n",
    "    return im"
   ]
  },
  {
   "cell_type": "code",
   "execution_count": 3,
   "metadata": {},
   "outputs": [],
   "source": [
    "for i in range(0, 2):\n",
    "    for j in range(0, 2):\n",
    "        for k in range(0, 12):\n",
    "            for l in range(0, 2):\n",
    "                for m in range (0, 1000):\n",
    "                    length = 7 if i == 0 else 15\n",
    "                    width = 1 if j == 0 else 3\n",
    "                    angle = k * 15\n",
    "                    color = \"blue\" if l == 1 else \"red\"\n",
    "                    img = drawImage(length, width, angle, color, 28, 28)\n",
    "                    img = img.resize((28,28),Image.ANTIALIAS)\n",
    "                    class_name = str(i) + \"_\" + str(j) + \"_\" + str(k) + \"_\" + str(l)\n",
    "                    folder = \"./img/\" + class_name\n",
    "                    if not os.path.exists(folder):\n",
    "                        os.makedirs(folder)\n",
    "                    img.save(folder + \"/\" + class_name + \"_\" + str(m) + \".jpg\", quality=1000)\n",
    "    #                 img.show()"
   ]
  },
  {
   "cell_type": "code",
   "execution_count": 4,
   "metadata": {},
   "outputs": [],
   "source": [
    "#Create frames and make video\n",
    "\n",
    "def createFramesAndVideo(inpPath,outputPath,fps):\n",
    "    frame_array = []\n",
    "    for j in range(10):\n",
    "        for i in range(9):\n",
    "            img = cv2.imread(inpPath+'/0_0_0_0_'+str(random.randint(0,1000))+'.jpg')\n",
    "            height, width, layers = img.shape\n",
    "            size = (width,height)\n",
    "            frame_array.append(img)\n",
    "    out = cv2.VideoWriter(outputPath,cv2.VideoWriter_fourcc('M','J','P','G'), fps, size)\n",
    "\n",
    "    \n",
    "    for i in range(len(frame_array)):\n",
    "        # writing to a image array\n",
    "        out.write(frame_array[i])\n",
    "    out.release()"
   ]
  },
  {
   "cell_type": "code",
   "execution_count": 5,
   "metadata": {},
   "outputs": [],
   "source": [
    "# createFramesAndVideo('./img/0_0_0_0','video3.avi',2)"
   ]
  },
  {
   "cell_type": "code",
   "execution_count": 6,
   "metadata": {},
   "outputs": [],
   "source": [
    "def createFrame(variation):\n",
    "    images = []\n",
    "    for j in range(3):\n",
    "        imgs = []\n",
    "        for i in range(3):\n",
    "            img = cv2.imread('./img/'+variation+'/'+variation+'_'+str(random.randint(0,999))+'.jpg')\n",
    "            imgs.append(img)\n",
    "        images.append(np.concatenate(imgs,axis=1))\n",
    "    vis = np.concatenate(images, axis=0)\n",
    "    return vis"
   ]
  },
  {
   "cell_type": "code",
   "execution_count": 7,
   "metadata": {},
   "outputs": [],
   "source": [
    "def createAllFrames(variation,noOfFrames):\n",
    "    frame_array = []\n",
    "    \n",
    "    for i in range(noOfFrames):\n",
    "        val = createFrame(variation)\n",
    "        height,width,layers = val.shape\n",
    "        size = (width,height)\n",
    "        frame_array.append(val)\n",
    "        \n",
    "    frame_array = np.array(frame_array)\n",
    "    return frame_array,size"
   ]
  },
  {
   "cell_type": "code",
   "execution_count": 8,
   "metadata": {},
   "outputs": [],
   "source": [
    "def appendFramesTogether(noOfFrames):\n",
    "    frame_array = []\n",
    "    \n",
    "    for i in range(2):\n",
    "        for j in range(2):\n",
    "            for k in range(12):\n",
    "                for l in range(2):\n",
    "                    variation = str(i)+'_'+str(j)+'_'+str(k)+'_'+str(l)\n",
    "                    frames,size = createAllFrames(variation,noOfFrames)\n",
    "                    frame_array.append(frames)\n",
    "    frame_array = np.array(frame_array)\n",
    "    f = np.concatenate(frame_array,axis=0)\n",
    "    return f,size"
   ]
  },
  {
   "cell_type": "code",
   "execution_count": 9,
   "metadata": {},
   "outputs": [],
   "source": [
    "def createVideoFromFrames(frames,fps,size,output):\n",
    "    \n",
    "    out = cv2.VideoWriter(output,cv2.VideoWriter_fourcc('M','J','P','G'), fps, size)\n",
    "\n",
    "    for i in range(len(frames)):\n",
    "        # writing to a image array\n",
    "        out.write(frames[i])\n",
    "    out.release()\n",
    "    "
   ]
  },
  {
   "cell_type": "code",
   "execution_count": 10,
   "metadata": {},
   "outputs": [],
   "source": [
    "def createVideoForAllClasses(fps, noOfFrames, outputDir):\n",
    "    if not os.path.exists(\"./\"+outputDir):\n",
    "        os.makedirs(\"./\"+outputDir)\n",
    "    else :\n",
    "        return\n",
    "        \n",
    "    for i in range(2):\n",
    "        for j in range(2):\n",
    "            for k in range(12):\n",
    "                for l in range(2):\n",
    "                    variation = str(i)+'_'+str(j)+'_'+str(k)+'_'+str(l)\n",
    "                    frames,size = createAllFrames(variation,noOfFrames)\n",
    "                    createVideoFromFrames(frames,fps,size,outputDir+'/'+variation+'.avi')\n",
    "                    "
   ]
  },
  {
   "cell_type": "code",
   "execution_count": 11,
   "metadata": {},
   "outputs": [
    {
     "ename": "KeyboardInterrupt",
     "evalue": "",
     "output_type": "error",
     "traceback": [
      "\u001b[0;31m---------------------------------------------------------------------------\u001b[0m",
      "\u001b[0;31mKeyboardInterrupt\u001b[0m                         Traceback (most recent call last)",
      "\u001b[0;32m<ipython-input-11-45fa2e240342>\u001b[0m in \u001b[0;36m<module>\u001b[0;34m()\u001b[0m\n\u001b[0;32m----> 1\u001b[0;31m \u001b[0mcreateVideoForAllClasses\u001b[0m\u001b[0;34m(\u001b[0m\u001b[0;36m2\u001b[0m\u001b[0;34m,\u001b[0m \u001b[0;36m10\u001b[0m\u001b[0;34m,\u001b[0m \u001b[0;34m'individual_class_videos'\u001b[0m\u001b[0;34m)\u001b[0m\u001b[0;34m\u001b[0m\u001b[0m\n\u001b[0m",
      "\u001b[0;32m<ipython-input-10-487e20995d0f>\u001b[0m in \u001b[0;36mcreateVideoForAllClasses\u001b[0;34m(fps, noOfFrames, outputDir)\u001b[0m\n\u001b[1;32m     10\u001b[0m                 \u001b[0;32mfor\u001b[0m \u001b[0ml\u001b[0m \u001b[0;32min\u001b[0m \u001b[0mrange\u001b[0m\u001b[0;34m(\u001b[0m\u001b[0;36m2\u001b[0m\u001b[0;34m)\u001b[0m\u001b[0;34m:\u001b[0m\u001b[0;34m\u001b[0m\u001b[0m\n\u001b[1;32m     11\u001b[0m                     \u001b[0mvariation\u001b[0m \u001b[0;34m=\u001b[0m \u001b[0mstr\u001b[0m\u001b[0;34m(\u001b[0m\u001b[0mi\u001b[0m\u001b[0;34m)\u001b[0m\u001b[0;34m+\u001b[0m\u001b[0;34m'_'\u001b[0m\u001b[0;34m+\u001b[0m\u001b[0mstr\u001b[0m\u001b[0;34m(\u001b[0m\u001b[0mj\u001b[0m\u001b[0;34m)\u001b[0m\u001b[0;34m+\u001b[0m\u001b[0;34m'_'\u001b[0m\u001b[0;34m+\u001b[0m\u001b[0mstr\u001b[0m\u001b[0;34m(\u001b[0m\u001b[0mk\u001b[0m\u001b[0;34m)\u001b[0m\u001b[0;34m+\u001b[0m\u001b[0;34m'_'\u001b[0m\u001b[0;34m+\u001b[0m\u001b[0mstr\u001b[0m\u001b[0;34m(\u001b[0m\u001b[0ml\u001b[0m\u001b[0;34m)\u001b[0m\u001b[0;34m\u001b[0m\u001b[0m\n\u001b[0;32m---> 12\u001b[0;31m                     \u001b[0mframes\u001b[0m\u001b[0;34m,\u001b[0m\u001b[0msize\u001b[0m \u001b[0;34m=\u001b[0m \u001b[0mcreateAllFrames\u001b[0m\u001b[0;34m(\u001b[0m\u001b[0mvariation\u001b[0m\u001b[0;34m,\u001b[0m\u001b[0mnoOfFrames\u001b[0m\u001b[0;34m)\u001b[0m\u001b[0;34m\u001b[0m\u001b[0m\n\u001b[0m\u001b[1;32m     13\u001b[0m                     \u001b[0mcreateVideoFromFrames\u001b[0m\u001b[0;34m(\u001b[0m\u001b[0mframes\u001b[0m\u001b[0;34m,\u001b[0m\u001b[0mfps\u001b[0m\u001b[0;34m,\u001b[0m\u001b[0msize\u001b[0m\u001b[0;34m,\u001b[0m\u001b[0moutputDir\u001b[0m\u001b[0;34m+\u001b[0m\u001b[0;34m'/'\u001b[0m\u001b[0;34m+\u001b[0m\u001b[0mvariation\u001b[0m\u001b[0;34m+\u001b[0m\u001b[0;34m'.avi'\u001b[0m\u001b[0;34m)\u001b[0m\u001b[0;34m\u001b[0m\u001b[0m\n\u001b[1;32m     14\u001b[0m \u001b[0;34m\u001b[0m\u001b[0m\n",
      "\u001b[0;32m<ipython-input-7-090bf95de7cc>\u001b[0m in \u001b[0;36mcreateAllFrames\u001b[0;34m(variation, noOfFrames)\u001b[0m\n\u001b[1;32m      3\u001b[0m \u001b[0;34m\u001b[0m\u001b[0m\n\u001b[1;32m      4\u001b[0m     \u001b[0;32mfor\u001b[0m \u001b[0mi\u001b[0m \u001b[0;32min\u001b[0m \u001b[0mrange\u001b[0m\u001b[0;34m(\u001b[0m\u001b[0mnoOfFrames\u001b[0m\u001b[0;34m)\u001b[0m\u001b[0;34m:\u001b[0m\u001b[0;34m\u001b[0m\u001b[0m\n\u001b[0;32m----> 5\u001b[0;31m         \u001b[0mval\u001b[0m \u001b[0;34m=\u001b[0m \u001b[0mcreateFrame\u001b[0m\u001b[0;34m(\u001b[0m\u001b[0mvariation\u001b[0m\u001b[0;34m)\u001b[0m\u001b[0;34m\u001b[0m\u001b[0m\n\u001b[0m\u001b[1;32m      6\u001b[0m         \u001b[0mheight\u001b[0m\u001b[0;34m,\u001b[0m\u001b[0mwidth\u001b[0m\u001b[0;34m,\u001b[0m\u001b[0mlayers\u001b[0m \u001b[0;34m=\u001b[0m \u001b[0mval\u001b[0m\u001b[0;34m.\u001b[0m\u001b[0mshape\u001b[0m\u001b[0;34m\u001b[0m\u001b[0m\n\u001b[1;32m      7\u001b[0m         \u001b[0msize\u001b[0m \u001b[0;34m=\u001b[0m \u001b[0;34m(\u001b[0m\u001b[0mwidth\u001b[0m\u001b[0;34m,\u001b[0m\u001b[0mheight\u001b[0m\u001b[0;34m)\u001b[0m\u001b[0;34m\u001b[0m\u001b[0m\n",
      "\u001b[0;32m<ipython-input-6-eb321783228d>\u001b[0m in \u001b[0;36mcreateFrame\u001b[0;34m(variation)\u001b[0m\n\u001b[1;32m      4\u001b[0m         \u001b[0mimgs\u001b[0m \u001b[0;34m=\u001b[0m \u001b[0;34m[\u001b[0m\u001b[0;34m]\u001b[0m\u001b[0;34m\u001b[0m\u001b[0m\n\u001b[1;32m      5\u001b[0m         \u001b[0;32mfor\u001b[0m \u001b[0mi\u001b[0m \u001b[0;32min\u001b[0m \u001b[0mrange\u001b[0m\u001b[0;34m(\u001b[0m\u001b[0;36m3\u001b[0m\u001b[0;34m)\u001b[0m\u001b[0;34m:\u001b[0m\u001b[0;34m\u001b[0m\u001b[0m\n\u001b[0;32m----> 6\u001b[0;31m             \u001b[0mimg\u001b[0m \u001b[0;34m=\u001b[0m \u001b[0mcv2\u001b[0m\u001b[0;34m.\u001b[0m\u001b[0mimread\u001b[0m\u001b[0;34m(\u001b[0m\u001b[0;34m'./img/'\u001b[0m\u001b[0;34m+\u001b[0m\u001b[0mvariation\u001b[0m\u001b[0;34m+\u001b[0m\u001b[0;34m'/'\u001b[0m\u001b[0;34m+\u001b[0m\u001b[0mvariation\u001b[0m\u001b[0;34m+\u001b[0m\u001b[0;34m'_'\u001b[0m\u001b[0;34m+\u001b[0m\u001b[0mstr\u001b[0m\u001b[0;34m(\u001b[0m\u001b[0mrandom\u001b[0m\u001b[0;34m.\u001b[0m\u001b[0mrandint\u001b[0m\u001b[0;34m(\u001b[0m\u001b[0;36m0\u001b[0m\u001b[0;34m,\u001b[0m\u001b[0;36m999\u001b[0m\u001b[0;34m)\u001b[0m\u001b[0;34m)\u001b[0m\u001b[0;34m+\u001b[0m\u001b[0;34m'.jpg'\u001b[0m\u001b[0;34m)\u001b[0m\u001b[0;34m\u001b[0m\u001b[0m\n\u001b[0m\u001b[1;32m      7\u001b[0m             \u001b[0mimgs\u001b[0m\u001b[0;34m.\u001b[0m\u001b[0mappend\u001b[0m\u001b[0;34m(\u001b[0m\u001b[0mimg\u001b[0m\u001b[0;34m)\u001b[0m\u001b[0;34m\u001b[0m\u001b[0m\n\u001b[1;32m      8\u001b[0m         \u001b[0mimages\u001b[0m\u001b[0;34m.\u001b[0m\u001b[0mappend\u001b[0m\u001b[0;34m(\u001b[0m\u001b[0mnp\u001b[0m\u001b[0;34m.\u001b[0m\u001b[0mconcatenate\u001b[0m\u001b[0;34m(\u001b[0m\u001b[0mimgs\u001b[0m\u001b[0;34m,\u001b[0m\u001b[0maxis\u001b[0m\u001b[0;34m=\u001b[0m\u001b[0;36m1\u001b[0m\u001b[0;34m)\u001b[0m\u001b[0;34m)\u001b[0m\u001b[0;34m\u001b[0m\u001b[0m\n",
      "\u001b[0;31mKeyboardInterrupt\u001b[0m: "
     ]
    }
   ],
   "source": [
    "createVideoForAllClasses(2, 10, 'individual_class_videos')"
   ]
  },
  {
   "cell_type": "code",
   "execution_count": null,
   "metadata": {},
   "outputs": [],
   "source": [
    "frames,size = appendFramesTogether(10)\n",
    "createVideoFromFrames(frames,2,size,'finalVideo.avi')"
   ]
  }
 ],
 "metadata": {
  "celltoolbar": "Raw Cell Format",
  "kernelspec": {
   "display_name": "Python 3",
   "language": "python",
   "name": "python3"
  },
  "language_info": {
   "codemirror_mode": {
    "name": "ipython",
    "version": 2
   },
   "file_extension": ".py",
   "mimetype": "text/x-python",
   "name": "python",
   "nbconvert_exporter": "python",
   "pygments_lexer": "ipython2",
   "version": "2.7.12"
  }
 },
 "nbformat": 4,
 "nbformat_minor": 2
}
